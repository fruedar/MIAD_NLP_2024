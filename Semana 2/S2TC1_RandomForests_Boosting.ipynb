{
 "cells": [
  {
   "cell_type": "markdown",
   "metadata": {},
   "source": [
    "![image info](https://raw.githubusercontent.com/albahnsen/MIAD_ML_and_NLP/main/images/banner_1.png)"
   ]
  },
  {
   "cell_type": "markdown",
   "metadata": {},
   "source": [
    "# Taller: Construcción e implementación de modelos Bagging, Random Forest y XGBoost\n",
    "\n",
    "En este taller podrán poner en práctica sus conocimientos sobre la construcción e implementación de modelos de Bagging, Random Forest y XGBoost. El taller está constituido por 8 puntos, en los cuales deberan seguir las intrucciones de cada numeral para su desarrollo."
   ]
  },
  {
   "cell_type": "markdown",
   "metadata": {},
   "source": [
    "## Datos predicción precio de automóviles\n",
    "\n",
    "En este taller se usará el conjunto de datos de Car Listings de Kaggle donde cada observación representa el precio de un automóvil teniendo en cuenta distintas variables como año, marca, modelo, entre otras. El objetivo es predecir el precio del automóvil. Para más detalles puede visitar el siguiente enlace: [datos](https://www.kaggle.com/jpayne/852k-used-car-listings)."
   ]
  },
  {
   "cell_type": "code",
   "execution_count": 1,
   "metadata": {},
   "outputs": [],
   "source": [
    "import warnings\n",
    "warnings.filterwarnings('ignore')"
   ]
  },
  {
   "cell_type": "code",
   "execution_count": 2,
   "metadata": {},
   "outputs": [],
   "source": [
    "# Importación de librerías\n",
    "%matplotlib inline\n",
    "import pandas as pd\n",
    "import numpy as np\n",
    "from sklearn.model_selection import cross_val_score"
   ]
  },
  {
   "cell_type": "code",
   "execution_count": 3,
   "metadata": {},
   "outputs": [
    {
     "data": {
      "text/html": [
       "<div>\n",
       "<style scoped>\n",
       "    .dataframe tbody tr th:only-of-type {\n",
       "        vertical-align: middle;\n",
       "    }\n",
       "\n",
       "    .dataframe tbody tr th {\n",
       "        vertical-align: top;\n",
       "    }\n",
       "\n",
       "    .dataframe thead th {\n",
       "        text-align: right;\n",
       "    }\n",
       "</style>\n",
       "<table border=\"1\" class=\"dataframe\">\n",
       "  <thead>\n",
       "    <tr style=\"text-align: right;\">\n",
       "      <th></th>\n",
       "      <th>Price</th>\n",
       "      <th>Year</th>\n",
       "      <th>Mileage</th>\n",
       "      <th>M_Camry</th>\n",
       "      <th>M_Camry4dr</th>\n",
       "      <th>M_CamryBase</th>\n",
       "      <th>M_CamryL</th>\n",
       "      <th>M_CamryLE</th>\n",
       "      <th>M_CamrySE</th>\n",
       "      <th>M_CamryXLE</th>\n",
       "    </tr>\n",
       "  </thead>\n",
       "  <tbody>\n",
       "    <tr>\n",
       "      <th>7</th>\n",
       "      <td>21995</td>\n",
       "      <td>2014</td>\n",
       "      <td>6480</td>\n",
       "      <td>0.0</td>\n",
       "      <td>0.0</td>\n",
       "      <td>0.0</td>\n",
       "      <td>1.0</td>\n",
       "      <td>0.0</td>\n",
       "      <td>0.0</td>\n",
       "      <td>0.0</td>\n",
       "    </tr>\n",
       "    <tr>\n",
       "      <th>11</th>\n",
       "      <td>13995</td>\n",
       "      <td>2014</td>\n",
       "      <td>39972</td>\n",
       "      <td>0.0</td>\n",
       "      <td>0.0</td>\n",
       "      <td>0.0</td>\n",
       "      <td>0.0</td>\n",
       "      <td>1.0</td>\n",
       "      <td>0.0</td>\n",
       "      <td>0.0</td>\n",
       "    </tr>\n",
       "    <tr>\n",
       "      <th>167</th>\n",
       "      <td>17941</td>\n",
       "      <td>2016</td>\n",
       "      <td>18989</td>\n",
       "      <td>0.0</td>\n",
       "      <td>0.0</td>\n",
       "      <td>0.0</td>\n",
       "      <td>0.0</td>\n",
       "      <td>0.0</td>\n",
       "      <td>1.0</td>\n",
       "      <td>0.0</td>\n",
       "    </tr>\n",
       "    <tr>\n",
       "      <th>225</th>\n",
       "      <td>12493</td>\n",
       "      <td>2014</td>\n",
       "      <td>51330</td>\n",
       "      <td>0.0</td>\n",
       "      <td>0.0</td>\n",
       "      <td>0.0</td>\n",
       "      <td>1.0</td>\n",
       "      <td>0.0</td>\n",
       "      <td>0.0</td>\n",
       "      <td>0.0</td>\n",
       "    </tr>\n",
       "    <tr>\n",
       "      <th>270</th>\n",
       "      <td>7994</td>\n",
       "      <td>2007</td>\n",
       "      <td>116065</td>\n",
       "      <td>0.0</td>\n",
       "      <td>1.0</td>\n",
       "      <td>0.0</td>\n",
       "      <td>0.0</td>\n",
       "      <td>0.0</td>\n",
       "      <td>0.0</td>\n",
       "      <td>0.0</td>\n",
       "    </tr>\n",
       "  </tbody>\n",
       "</table>\n",
       "</div>"
      ],
      "text/plain": [
       "     Price  Year  Mileage  M_Camry  M_Camry4dr  M_CamryBase  M_CamryL  \\\n",
       "7    21995  2014     6480      0.0         0.0          0.0       1.0   \n",
       "11   13995  2014    39972      0.0         0.0          0.0       0.0   \n",
       "167  17941  2016    18989      0.0         0.0          0.0       0.0   \n",
       "225  12493  2014    51330      0.0         0.0          0.0       1.0   \n",
       "270   7994  2007   116065      0.0         1.0          0.0       0.0   \n",
       "\n",
       "     M_CamryLE  M_CamrySE  M_CamryXLE  \n",
       "7          0.0        0.0         0.0  \n",
       "11         1.0        0.0         0.0  \n",
       "167        0.0        1.0         0.0  \n",
       "225        0.0        0.0         0.0  \n",
       "270        0.0        0.0         0.0  "
      ]
     },
     "execution_count": 3,
     "metadata": {},
     "output_type": "execute_result"
    }
   ],
   "source": [
    "# Lectura de la información de archivo .csv\n",
    "data = pd.read_csv('https://raw.githubusercontent.com/albahnsen/MIAD_ML_and_NLP/main/datasets/dataTrain_carListings.zip')\n",
    "\n",
    "# Preprocesamiento de datos para el taller\n",
    "data = data.loc[data['Model'].str.contains('Camry')].drop(['Make', 'State'], axis=1)\n",
    "data = data.join(pd.get_dummies(data['Model'], prefix='M', dtype=float))\n",
    "data = data.drop(['Model'], axis=1)\n",
    "\n",
    "# Visualización dataset\n",
    "data.head()"
   ]
  },
  {
   "cell_type": "code",
   "execution_count": 4,
   "metadata": {},
   "outputs": [],
   "source": [
    "# Separación de variables predictoras (X) y variable de interés (y)\n",
    "y = data['Price']\n",
    "X = data.drop(['Price'], axis=1)"
   ]
  },
  {
   "cell_type": "code",
   "execution_count": 5,
   "metadata": {},
   "outputs": [],
   "source": [
    "# Separación de datos en set de entrenamiento y test\n",
    "from sklearn.model_selection import train_test_split\n",
    "X_train, X_test, y_train, y_test = train_test_split(X, y, test_size=0.33, random_state=42)"
   ]
  },
  {
   "cell_type": "markdown",
   "metadata": {},
   "source": [
    "### Punto 1 - Árbol de decisión manual\n",
    "\n",
    "En la celda 1 creen un árbol de decisión **manualmente**  que considere los set de entrenamiento y test definidos anteriormente y presenten el RMSE y MAE del modelo en el set de test."
   ]
  },
  {
   "cell_type": "code",
   "execution_count": 6,
   "metadata": {},
   "outputs": [],
   "source": [
    "# Celda 1\n",
    "# Definición de parámetros y criterios de parada\n",
    "max_depth = 6\n",
    "num_pct = 10\n",
    "min_gain=0.001"
   ]
  },
  {
   "cell_type": "code",
   "execution_count": 7,
   "metadata": {},
   "outputs": [],
   "source": [
    "# Definición de la función que calcula el MSE\n",
    "def mse(y):\n",
    "    if y.shape[0] == 0:\n",
    "        return 0\n",
    "    else:\n",
    "        return np.mean((y - y.mean())**2)"
   ]
  },
  {
   "cell_type": "code",
   "execution_count": 8,
   "metadata": {},
   "outputs": [],
   "source": [
    "def mse_reduction(X_col, y, split):\n",
    "    \n",
    "    filter_l = X_col < split\n",
    "    y_l = y.loc[filter_l]\n",
    "    y_r = y.loc[~filter_l]\n",
    "    \n",
    "    n_l = y_l.shape[0]\n",
    "    n_r = y_r.shape[0]\n",
    "    \n",
    "    mse_y = mse(y)\n",
    "    mse_l = mse(y_l)\n",
    "    mse_r = mse(y_r)\n",
    "    \n",
    "    mse_reduction_ = mse_y - (n_l / (n_l + n_r) * mse_l + n_r / (n_l + n_r) * mse_r)\n",
    "      \n",
    "    return mse_reduction_"
   ]
  },
  {
   "cell_type": "code",
   "execution_count": 9,
   "metadata": {},
   "outputs": [],
   "source": [
    "# Definición de la función best_split para calcular cuál es la mejor variable y punto de corte para hacer la bifurcación del árbol\n",
    "def best_split(X, y, num_pct=10):\n",
    "    \n",
    "    features = range(X.shape[1])\n",
    "    \n",
    "    best_split = [0, 0, 0]  # j, split, reduction\n",
    "    \n",
    "    # Para todas las variables \n",
    "    for j in features:\n",
    "        \n",
    "        splits = np.percentile(X.iloc[:, j], np.arange(0, 100, 100.0 / (num_pct+1)).tolist())\n",
    "        splits = np.unique(splits)[1:]\n",
    "        \n",
    "        # Para cada partición\n",
    "        for split in splits:\n",
    "            reduction = mse_reduction(X.iloc[:, j], y, split)\n",
    "                        \n",
    "            if reduction > best_split[2]:\n",
    "                best_split = [j, split, reduction]\n",
    "    \n",
    "    return best_split"
   ]
  },
  {
   "cell_type": "code",
   "execution_count": 10,
   "metadata": {},
   "outputs": [
    {
     "data": {
      "text/plain": [
       "array([5.00000e+00, 1.50560e+04, 2.20580e+04, 2.79920e+04, 3.36600e+04,\n",
       "       3.90410e+04, 4.44370e+04, 5.16700e+04, 6.67500e+04, 8.56970e+04,\n",
       "       1.10295e+05])"
      ]
     },
     "execution_count": 10,
     "metadata": {},
     "output_type": "execute_result"
    }
   ],
   "source": [
    "np.percentile(X.iloc[:, 1], np.arange(0, 100, 100.0 / (num_pct+1)).tolist())"
   ]
  },
  {
   "cell_type": "code",
   "execution_count": 11,
   "metadata": {},
   "outputs": [],
   "source": [
    "# Definición de la función tree_grow para hacer un crecimiento recursivo del árbol\n",
    "def tree_grow(X, y, level=0, min_gain=min_gain, max_depth=max_depth, num_pct=num_pct):\n",
    "    \n",
    "    # Si solo es una observación\n",
    "    if X.shape[0] == 1:\n",
    "        tree = dict(y_pred=y.iloc[:1].values[0], level=level, split=-1, n_samples=1, gain=0)\n",
    "        return tree\n",
    "    \n",
    "    # Calcular la mejor división\n",
    "    j, split, gain = best_split(X, y, num_pct)\n",
    "    \n",
    "    # Guardar el árbol y estimar la predicción\n",
    "    y_pred = y.mean()\n",
    "    \n",
    "    tree = dict(y_pred=y_pred, level=level, split=-1, n_samples=X.shape[0], gain=gain)\n",
    "    # Revisar el criterio de parada \n",
    "    if gain < min_gain:\n",
    "        return tree\n",
    "    if max_depth is not None:\n",
    "        if level >= max_depth:\n",
    "            return tree   \n",
    "    \n",
    "    # Continuar creando la partición\n",
    "    filter_l = X.iloc[:, j] < split\n",
    "    X_l, y_l = X.loc[filter_l], y.loc[filter_l]\n",
    "    X_r, y_r = X.loc[~filter_l], y.loc[~filter_l]\n",
    "    tree['split'] = [j, split]\n",
    "\n",
    "    # Siguiente iteración para cada partición\n",
    "    \n",
    "    tree['sl'] = tree_grow(X_l, y_l, level + 1, min_gain=min_gain, max_depth=max_depth, num_pct=num_pct)\n",
    "    tree['sr'] = tree_grow(X_r, y_r, level + 1, min_gain=min_gain, max_depth=max_depth, num_pct=num_pct)\n",
    "    \n",
    "    return tree"
   ]
  },
  {
   "cell_type": "code",
   "execution_count": 12,
   "metadata": {},
   "outputs": [],
   "source": [
    "# Definición de la función tree_predict para hacer predicciones según las variables 'X' y el árbol 'tree'\n",
    "\n",
    "def tree_predict(X, tree):\n",
    "    \n",
    "    predicted = np.ones(X.shape[0])\n",
    "\n",
    "    # Revisar si es el nodo final\n",
    "    if tree['split'] == -1:\n",
    "        predicted = tree['y_pred']\n",
    "            \n",
    "    else:\n",
    "        \n",
    "        j, split = tree['split']\n",
    "        filter_l = (X.iloc[:, j] < split)\n",
    "        X_l = X.loc[filter_l]\n",
    "        X_r = X.loc[~filter_l]\n",
    "\n",
    "        if X_l.shape[0] == 0:  # Si el nodo izquierdo está vacio solo continua con el derecho \n",
    "            predicted[~filter_l] = tree_predict(X_r, tree['sr'])\n",
    "        elif X_r.shape[0] == 0:  #  Si el nodo derecho está vacio solo continua con el izquierdo\n",
    "            predicted[filter_l] = tree_predict(X_l, tree['sl'])\n",
    "        else:\n",
    "            predicted[filter_l] = tree_predict(X_l, tree['sl'])\n",
    "            predicted[~filter_l] = tree_predict(X_r, tree['sr'])\n",
    "\n",
    "    return predicted"
   ]
  },
  {
   "cell_type": "code",
   "execution_count": 13,
   "metadata": {},
   "outputs": [],
   "source": [
    "tree=tree_grow(X_train, y_train, level=0, min_gain=0.001, max_depth=7, num_pct=10)"
   ]
  },
  {
   "cell_type": "code",
   "execution_count": 14,
   "metadata": {},
   "outputs": [
    {
     "data": {
      "text/plain": [
       "array([13247.53703704,  6611.125     , 16134.82113821, ...,\n",
       "       18485.20100503, 12492.01587302, 11553.25      ], shape=(3464,))"
      ]
     },
     "execution_count": 14,
     "metadata": {},
     "output_type": "execute_result"
    }
   ],
   "source": [
    "y_pred=tree_predict(X_test, tree)\n",
    "y_pred"
   ]
  },
  {
   "cell_type": "code",
   "execution_count": 15,
   "metadata": {},
   "outputs": [
    {
     "name": "stdout",
     "output_type": "stream",
     "text": [
      "MAE Tree:  1201.710882380087\n",
      "RMSE:  1627.4244844155912\n"
     ]
    }
   ],
   "source": [
    "from sklearn.metrics import mean_absolute_error, mean_squared_error\n",
    "maetree = mean_absolute_error(y_test, y_pred)\n",
    "rmsetree = np.sqrt(mean_squared_error(y_test, y_pred))\n",
    "\n",
    "print(\"MAE Tree: \", maetree)\n",
    "print(\"RMSE: \", rmsetree)"
   ]
  },
  {
   "cell_type": "markdown",
   "metadata": {},
   "source": [
    "### Punto 2 - Bagging manual\n",
    "\n",
    "En la celda 2 creen un modelo bagging **manualmente** con 10 árboles de regresión y comenten sobre el desempeño del modelo."
   ]
  },
  {
   "cell_type": "code",
   "execution_count": 16,
   "metadata": {},
   "outputs": [
    {
     "data": {
      "text/plain": [
       "[array([3582, 3454, 1346, ...,  826,  801, 5657],\n",
       "       shape=(7031,), dtype=int32),\n",
       " array([6962, 3408, 2553, ..., 6611,  877, 6412],\n",
       "       shape=(7031,), dtype=int32),\n",
       " array([1917, 3131,  384, ..., 2876, 6449, 6557],\n",
       "       shape=(7031,), dtype=int32),\n",
       " array([3849, 4565, 6820, ..., 6835, 4643,  639],\n",
       "       shape=(7031,), dtype=int32),\n",
       " array([2468, 3608, 1367, ..., 3108, 2961, 4357],\n",
       "       shape=(7031,), dtype=int32),\n",
       " array([3142, 1537, 5966, ..., 3224, 6922, 3396],\n",
       "       shape=(7031,), dtype=int32),\n",
       " array([6588, 3753, 1786, ..., 2131, 4627, 5672],\n",
       "       shape=(7031,), dtype=int32),\n",
       " array([1289, 3776,  981, ..., 1891, 6034, 6165],\n",
       "       shape=(7031,), dtype=int32),\n",
       " array([6079, 3819, 6976, ..., 6478, 2225, 5072],\n",
       "       shape=(7031,), dtype=int32),\n",
       " array([3952, 3276,  896, ..., 4589, 1964,  893],\n",
       "       shape=(7031,), dtype=int32)]"
      ]
     },
     "execution_count": 16,
     "metadata": {},
     "output_type": "execute_result"
    }
   ],
   "source": [
    "# Celda 2\n",
    "# Creación de 10 muestras de bootstrap \n",
    "np.random.seed(123)\n",
    "\n",
    "n_samples = X_train.shape[0]\n",
    "n_B = 10\n",
    "\n",
    "samples = [np.random.choice(a=n_samples, size=n_samples, replace=True) for _ in range(1, n_B +1 )]\n",
    "samples"
   ]
  },
  {
   "cell_type": "code",
   "execution_count": 17,
   "metadata": {},
   "outputs": [
    {
     "data": {
      "text/html": [
       "<div>\n",
       "<style scoped>\n",
       "    .dataframe tbody tr th:only-of-type {\n",
       "        vertical-align: middle;\n",
       "    }\n",
       "\n",
       "    .dataframe tbody tr th {\n",
       "        vertical-align: top;\n",
       "    }\n",
       "\n",
       "    .dataframe thead tr th {\n",
       "        text-align: left;\n",
       "    }\n",
       "</style>\n",
       "<table border=\"1\" class=\"dataframe\">\n",
       "  <thead>\n",
       "    <tr>\n",
       "      <th></th>\n",
       "      <th>0</th>\n",
       "      <th>1</th>\n",
       "      <th>2</th>\n",
       "      <th>3</th>\n",
       "      <th>4</th>\n",
       "      <th>5</th>\n",
       "      <th>6</th>\n",
       "      <th>7</th>\n",
       "      <th>8</th>\n",
       "      <th>9</th>\n",
       "    </tr>\n",
       "  </thead>\n",
       "  <tbody>\n",
       "    <tr>\n",
       "      <th>257343</th>\n",
       "      <td>13477.401408</td>\n",
       "      <td>13920.138544</td>\n",
       "      <td>13176.235772</td>\n",
       "      <td>13162.116466</td>\n",
       "      <td>13621.067901</td>\n",
       "      <td>13202.778761</td>\n",
       "      <td>13845.288288</td>\n",
       "      <td>13314.725</td>\n",
       "      <td>13252.401747</td>\n",
       "      <td>13447.48125</td>\n",
       "    </tr>\n",
       "    <tr>\n",
       "      <th>326011</th>\n",
       "      <td>6453.279279</td>\n",
       "      <td>6684.244186</td>\n",
       "      <td>6410.75</td>\n",
       "      <td>6621.644444</td>\n",
       "      <td>6513.763158</td>\n",
       "      <td>7313.947368</td>\n",
       "      <td>6237.567568</td>\n",
       "      <td>6385.72549</td>\n",
       "      <td>6215.514925</td>\n",
       "      <td>6675.8</td>\n",
       "    </tr>\n",
       "    <tr>\n",
       "      <th>242354</th>\n",
       "      <td>16264.156489</td>\n",
       "      <td>15711.695322</td>\n",
       "      <td>15898.336245</td>\n",
       "      <td>16038.175299</td>\n",
       "      <td>15863.240204</td>\n",
       "      <td>15909.052536</td>\n",
       "      <td>16859.631342</td>\n",
       "      <td>16050.219409</td>\n",
       "      <td>16018.954111</td>\n",
       "      <td>16120.840532</td>\n",
       "    </tr>\n",
       "    <tr>\n",
       "      <th>266376</th>\n",
       "      <td>16848.996154</td>\n",
       "      <td>16261.806397</td>\n",
       "      <td>16639.203969</td>\n",
       "      <td>17854.089109</td>\n",
       "      <td>17464.900709</td>\n",
       "      <td>17672.470199</td>\n",
       "      <td>16140.293445</td>\n",
       "      <td>16744.762821</td>\n",
       "      <td>17057.56238</td>\n",
       "      <td>16119.984305</td>\n",
       "    </tr>\n",
       "    <tr>\n",
       "      <th>396954</th>\n",
       "      <td>16848.996154</td>\n",
       "      <td>17039.292035</td>\n",
       "      <td>15587.880845</td>\n",
       "      <td>17854.089109</td>\n",
       "      <td>16886.341463</td>\n",
       "      <td>17583.511905</td>\n",
       "      <td>15602.789125</td>\n",
       "      <td>15887.147475</td>\n",
       "      <td>17157.782609</td>\n",
       "      <td>15509.559889</td>\n",
       "    </tr>\n",
       "    <tr>\n",
       "      <th>...</th>\n",
       "      <td>...</td>\n",
       "      <td>...</td>\n",
       "      <td>...</td>\n",
       "      <td>...</td>\n",
       "      <td>...</td>\n",
       "      <td>...</td>\n",
       "      <td>...</td>\n",
       "      <td>...</td>\n",
       "      <td>...</td>\n",
       "      <td>...</td>\n",
       "    </tr>\n",
       "    <tr>\n",
       "      <th>144298</th>\n",
       "      <td>15575.26049</td>\n",
       "      <td>16261.806397</td>\n",
       "      <td>16639.203969</td>\n",
       "      <td>16183.368672</td>\n",
       "      <td>15869.314465</td>\n",
       "      <td>15730.892421</td>\n",
       "      <td>16140.293445</td>\n",
       "      <td>15769.162651</td>\n",
       "      <td>16014.215596</td>\n",
       "      <td>16119.984305</td>\n",
       "    </tr>\n",
       "    <tr>\n",
       "      <th>364521</th>\n",
       "      <td>16848.996154</td>\n",
       "      <td>16261.806397</td>\n",
       "      <td>16639.203969</td>\n",
       "      <td>16689.862857</td>\n",
       "      <td>17464.900709</td>\n",
       "      <td>17672.470199</td>\n",
       "      <td>16140.293445</td>\n",
       "      <td>15769.162651</td>\n",
       "      <td>17057.56238</td>\n",
       "      <td>16119.984305</td>\n",
       "    </tr>\n",
       "    <tr>\n",
       "      <th>120072</th>\n",
       "      <td>18417.342365</td>\n",
       "      <td>18359.515385</td>\n",
       "      <td>18278.323009</td>\n",
       "      <td>17776.122905</td>\n",
       "      <td>18109.793103</td>\n",
       "      <td>18326.443182</td>\n",
       "      <td>18248.350495</td>\n",
       "      <td>17982.664474</td>\n",
       "      <td>18058.823293</td>\n",
       "      <td>18265.791391</td>\n",
       "    </tr>\n",
       "    <tr>\n",
       "      <th>99878</th>\n",
       "      <td>12078.125</td>\n",
       "      <td>12972.840237</td>\n",
       "      <td>12594.663265</td>\n",
       "      <td>13162.116466</td>\n",
       "      <td>12204.304147</td>\n",
       "      <td>12135.310345</td>\n",
       "      <td>12256.754808</td>\n",
       "      <td>11916.007246</td>\n",
       "      <td>12515.82</td>\n",
       "      <td>12344.244604</td>\n",
       "    </tr>\n",
       "    <tr>\n",
       "      <th>387162</th>\n",
       "      <td>10974.298246</td>\n",
       "      <td>10848.84375</td>\n",
       "      <td>10739.571429</td>\n",
       "      <td>10312.025641</td>\n",
       "      <td>11066.847328</td>\n",
       "      <td>10881.206897</td>\n",
       "      <td>10820.779528</td>\n",
       "      <td>12239.571429</td>\n",
       "      <td>10922.018519</td>\n",
       "      <td>13496.677249</td>\n",
       "    </tr>\n",
       "  </tbody>\n",
       "</table>\n",
       "<p>3464 rows × 10 columns</p>\n",
       "</div>"
      ],
      "text/plain": [
       "                   0             1             2             3             4  \\\n",
       "257343  13477.401408  13920.138544  13176.235772  13162.116466  13621.067901   \n",
       "326011   6453.279279   6684.244186       6410.75   6621.644444   6513.763158   \n",
       "242354  16264.156489  15711.695322  15898.336245  16038.175299  15863.240204   \n",
       "266376  16848.996154  16261.806397  16639.203969  17854.089109  17464.900709   \n",
       "396954  16848.996154  17039.292035  15587.880845  17854.089109  16886.341463   \n",
       "...              ...           ...           ...           ...           ...   \n",
       "144298   15575.26049  16261.806397  16639.203969  16183.368672  15869.314465   \n",
       "364521  16848.996154  16261.806397  16639.203969  16689.862857  17464.900709   \n",
       "120072  18417.342365  18359.515385  18278.323009  17776.122905  18109.793103   \n",
       "99878      12078.125  12972.840237  12594.663265  13162.116466  12204.304147   \n",
       "387162  10974.298246   10848.84375  10739.571429  10312.025641  11066.847328   \n",
       "\n",
       "                   5             6             7             8             9  \n",
       "257343  13202.778761  13845.288288     13314.725  13252.401747   13447.48125  \n",
       "326011   7313.947368   6237.567568    6385.72549   6215.514925        6675.8  \n",
       "242354  15909.052536  16859.631342  16050.219409  16018.954111  16120.840532  \n",
       "266376  17672.470199  16140.293445  16744.762821   17057.56238  16119.984305  \n",
       "396954  17583.511905  15602.789125  15887.147475  17157.782609  15509.559889  \n",
       "...              ...           ...           ...           ...           ...  \n",
       "144298  15730.892421  16140.293445  15769.162651  16014.215596  16119.984305  \n",
       "364521  17672.470199  16140.293445  15769.162651   17057.56238  16119.984305  \n",
       "120072  18326.443182  18248.350495  17982.664474  18058.823293  18265.791391  \n",
       "99878   12135.310345  12256.754808  11916.007246      12515.82  12344.244604  \n",
       "387162  10881.206897  10820.779528  12239.571429  10922.018519  13496.677249  \n",
       "\n",
       "[3464 rows x 10 columns]"
      ]
     },
     "execution_count": 17,
     "metadata": {},
     "output_type": "execute_result"
    }
   ],
   "source": [
    "# Construcción un árbol de decisión para cada muestra boostrap\n",
    "\n",
    "from sklearn.tree import DecisionTreeRegressor\n",
    "\n",
    "# Definición del modelo usando DecisionTreeRegressor de sklearn\n",
    "treereg = DecisionTreeRegressor(max_depth=6)\n",
    "\n",
    "# DataFrame para guardar las predicciones de cada árbol\n",
    "y_pred = pd.DataFrame(index=X_test.index, columns=[list(range(n_B))])\n",
    "\n",
    "# Entrenamiento de un árbol sobre cada muestra boostrap y predicción sobre los datos de test\n",
    "for i in range(n_B):\n",
    "    X_b = X_train.iloc[samples[i],]\n",
    "    y_b = y_train.iloc[samples[i],]\n",
    "    treereg.fit(X_b, y_b)\n",
    "    y_pred.iloc[:,i] = treereg.predict(X_test)\n",
    "    \n",
    "y_pred"
   ]
  },
  {
   "cell_type": "code",
   "execution_count": 18,
   "metadata": {},
   "outputs": [
    {
     "data": {
      "text/plain": [
       "257343    13441.963514\n",
       "326011     6551.223642\n",
       "242354    16073.430149\n",
       "266376    16880.406949\n",
       "396954    16595.739061\n",
       "              ...     \n",
       "144298    16030.350241\n",
       "364521    16666.424307\n",
       "120072     18182.31696\n",
       "99878     12418.018612\n",
       "387162    11230.184001\n",
       "Length: 3464, dtype: object"
      ]
     },
     "execution_count": 18,
     "metadata": {},
     "output_type": "execute_result"
    }
   ],
   "source": [
    "# Predicciones promedio para cada obserbación del set de test\n",
    "y_pred=y_pred.mean(axis=1)\n",
    "y_pred"
   ]
  },
  {
   "cell_type": "code",
   "execution_count": 19,
   "metadata": {},
   "outputs": [
    {
     "name": "stdout",
     "output_type": "stream",
     "text": [
      "MAE BagM:  1183.4628507586967\n",
      "RMSE BagM:  1592.496845609976\n"
     ]
    }
   ],
   "source": [
    "# Error al promediar las predicciones de todos los árboles\n",
    "maebagm = mean_absolute_error(y_test, y_pred)\n",
    "rmsebagm = np.sqrt(mean_squared_error(y_test, y_pred))\n",
    "\n",
    "print(\"MAE BagM: \", maebagm)\n",
    "print(\"RMSE BagM: \", rmsebagm)"
   ]
  },
  {
   "cell_type": "markdown",
   "metadata": {},
   "source": [
    "### Punto 3 - Bagging con librería\n",
    "\n",
    "En la celda 3, con la librería sklearn, entrenen un modelo bagging con 10 árboles de regresión y el parámetro `max_features` igual a `log(n_features)` y comenten sobre el desempeño del modelo."
   ]
  },
  {
   "cell_type": "code",
   "execution_count": 20,
   "metadata": {},
   "outputs": [],
   "source": [
    "# Celda 3\n",
    "# Uso de BaggingRegressor de la libreria (sklearn) donde se usa el modelo DecisionTreeRegressor como estimador\n",
    "from sklearn.ensemble import BaggingRegressor\n",
    "import math\n",
    "bagreg = BaggingRegressor(DecisionTreeRegressor(max_features=\"log2\"), n_estimators=10,\n",
    "                          bootstrap=True, oob_score=True, random_state=42)"
   ]
  },
  {
   "cell_type": "code",
   "execution_count": 21,
   "metadata": {},
   "outputs": [
    {
     "name": "stdout",
     "output_type": "stream",
     "text": [
      "MAE BagL:  1361.2664479544706\n",
      "RMSE BagL:  1819.7321845417173\n"
     ]
    }
   ],
   "source": [
    "# Entrenemiento del modelo con set de entrenamiento y predicción en el set de test\n",
    "bagreg.fit(X_train, y_train)\n",
    "y_pred = bagreg.predict(X_test)\n",
    "maebagl = mean_absolute_error(y_test, y_pred)\n",
    "rmsebagl = np.sqrt(mean_squared_error(y_test, y_pred))\n",
    "\n",
    "print(\"MAE BagL: \", maebagl)\n",
    "print(\"RMSE BagL: \", rmsebagl) #El peor desempeño comparado con el bagging manual se debe a la calibración"
   ]
  },
  {
   "cell_type": "markdown",
   "metadata": {},
   "source": [
    "### Punto 4 - Random forest con librería\n",
    "\n",
    "En la celda 4, usando la librería sklearn entrenen un modelo de Randon Forest para regresión  y comenten sobre el desempeño del modelo."
   ]
  },
  {
   "cell_type": "code",
   "execution_count": 22,
   "metadata": {},
   "outputs": [
    {
     "name": "stdout",
     "output_type": "stream",
     "text": [
      "MAE RF:  1309.794721197602\n",
      "RMSE RF:  1758.1086780656174\n"
     ]
    }
   ],
   "source": [
    "# Celda 4\n",
    "from sklearn.ensemble import RandomForestRegressor\n",
    "reg=RandomForestRegressor()\n",
    "reg.fit(X_train, y_train)\n",
    "y_pred=reg.predict(X_test)\n",
    "\n",
    "maerf = mean_absolute_error(y_test, y_pred)\n",
    "rmserf = np.sqrt(mean_squared_error(y_test, y_pred))\n",
    "\n",
    "print(\"MAE RF: \", maerf)\n",
    "print(\"RMSE RF: \", rmserf)"
   ]
  },
  {
   "cell_type": "markdown",
   "metadata": {},
   "source": [
    "### Punto 5 - Calibración de parámetros Random forest\n",
    "\n",
    "En la celda 5, calibren los parámetros max_depth, max_features y n_estimators del modelo de Randon Forest para regresión, comenten sobre el desempeño del modelo y describan cómo cada parámetro afecta el desempeño del modelo."
   ]
  },
  {
   "cell_type": "markdown",
   "metadata": {},
   "source": [
    "### max_depth"
   ]
  },
  {
   "cell_type": "code",
   "execution_count": 23,
   "metadata": {},
   "outputs": [],
   "source": [
    "# Celda 5\n",
    "# Creación de lista de valores para iterar sobre diferentes valores de max_depth\n",
    "depth_range = range(1, 20 , 2)\n",
    "\n",
    "# Definición de lista para almacenar el rmse promedio para cada valor de max_depth\n",
    "rmse = []\n",
    "\n",
    "# Uso de un 5-fold cross-validation para cada valor de max_depth\n",
    "for depth in depth_range:\n",
    "    clf = RandomForestRegressor(max_depth=depth, random_state=1, n_jobs=-1)\n",
    "    rmse.append(-cross_val_score(clf, X_train, y_train, cv=5, scoring='neg_root_mean_squared_error').mean())"
   ]
  },
  {
   "cell_type": "code",
   "execution_count": 24,
   "metadata": {},
   "outputs": [
    {
     "data": {
      "text/plain": [
       "Text(0, 0.5, 'RMSE')"
      ]
     },
     "execution_count": 24,
     "metadata": {},
     "output_type": "execute_result"
    },
    {
     "data": {
      "image/png": "[encoded data removed]",
      "text/plain": [
       "<Figure size 640x480 with 1 Axes>"
      ]
     },
     "metadata": {},
     "output_type": "display_data"
    }
   ],
   "source": [
    "# Gráfica del desempeño del modelo vs la cantidad de max_depth\n",
    "import matplotlib.pyplot as plt\n",
    "plt.plot(depth_range, rmse)\n",
    "plt.xlabel('max_depth')\n",
    "plt.ylabel('RMSE')"
   ]
  },
  {
   "cell_type": "markdown",
   "metadata": {},
   "source": [
    "### max_features"
   ]
  },
  {
   "cell_type": "code",
   "execution_count": 25,
   "metadata": {},
   "outputs": [],
   "source": [
    "# Creación de lista de valores para iterar sobre diferentes valores de max_features\n",
    "feature_range = range(1, X.shape[1]+1)\n",
    "\n",
    "# Definición de lista para almacenar el rmse promedio para cada valor de max_features\n",
    "rmse = []\n",
    "\n",
    "# Uso de un 5-fold cross-validation para cada valor de max_features\n",
    "for features in feature_range:\n",
    "    clf = RandomForestRegressor(max_features=features,max_depth=7, random_state=1, n_jobs=-1)\n",
    "    rmse.append(-cross_val_score(clf, X_train, y_train, cv=5, scoring='neg_root_mean_squared_error').mean())"
   ]
  },
  {
   "cell_type": "code",
   "execution_count": 26,
   "metadata": {},
   "outputs": [
    {
     "data": {
      "text/plain": [
       "Text(0, 0.5, 'RMSE')"
      ]
     },
     "execution_count": 26,
     "metadata": {},
     "output_type": "execute_result"
    },
    {
     "data": {
      "image/png": "[encoded data removed]",
      "text/plain": [
       "<Figure size 640x480 with 1 Axes>"
      ]
     },
     "metadata": {},
     "output_type": "display_data"
    }
   ],
   "source": [
    "# Gráfica del desempeño del modelo vs la cantidad de max_features\n",
    "plt.plot(feature_range, rmse)\n",
    "plt.xlabel('max_features')\n",
    "plt.ylabel('RMSE')"
   ]
  },
  {
   "cell_type": "markdown",
   "metadata": {},
   "source": [
    "### n_estimators"
   ]
  },
  {
   "cell_type": "code",
   "execution_count": 27,
   "metadata": {},
   "outputs": [],
   "source": [
    "# Creación de lista de valores para iterar sobre diferentes valores de n_estimators\n",
    "estimator_range = range(10, 310, 10)\n",
    "\n",
    "# Definición de lista para almacenar el rmse promedio para cada valor de n_estimators\n",
    "rmse = []\n",
    "\n",
    "# Uso de un 5-fold cross-validation para cada valor de n_estimators\n",
    "for estimator in estimator_range:\n",
    "    clf = RandomForestRegressor(n_estimators=estimator,max_depth=7,max_features=5, random_state=1, n_jobs=-1)\n",
    "    rmse.append(-cross_val_score(clf, X_train, y_train, cv=5, scoring='neg_root_mean_squared_error').mean())"
   ]
  },
  {
   "cell_type": "code",
   "execution_count": 28,
   "metadata": {},
   "outputs": [
    {
     "data": {
      "text/plain": [
       "Text(0, 0.5, 'RMSE')"
      ]
     },
     "execution_count": 28,
     "metadata": {},
     "output_type": "execute_result"
    },
    {
     "data": {
      "image/png": "[encoded data removed]",
      "text/plain": [
       "<Figure size 640x480 with 1 Axes>"
      ]
     },
     "metadata": {},
     "output_type": "display_data"
    }
   ],
   "source": [
    "# Gráfica del desempeño del modelo vs la cantidad de n_estimators\n",
    "plt.plot(estimator_range, rmse)\n",
    "plt.xlabel('n_estimators')\n",
    "plt.ylabel('RMSE')"
   ]
  },
  {
   "cell_type": "code",
   "execution_count": 29,
   "metadata": {},
   "outputs": [
    {
     "name": "stdout",
     "output_type": "stream",
     "text": [
      "MAE RFC:  1144.6543933166547\n",
      "RMSE RFC:  1558.3634136070445\n"
     ]
    }
   ],
   "source": [
    "reg=RandomForestRegressor(max_depth=7,max_features=5,n_estimators=210)\n",
    "reg.fit(X_train, y_train)\n",
    "y_pred=reg.predict(X_test)\n",
    "\n",
    "maerfc = mean_absolute_error(y_test, y_pred)\n",
    "rmserfc = np.sqrt(mean_squared_error(y_test, y_pred))\n",
    "\n",
    "print(\"MAE RFC: \", maerfc)\n",
    "print(\"RMSE RFC: \", rmserfc)"
   ]
  },
  {
   "cell_type": "markdown",
   "metadata": {},
   "source": [
    "### GridSearch"
   ]
  },
  {
   "cell_type": "code",
   "execution_count": 30,
   "metadata": {},
   "outputs": [
    {
     "name": "stdout",
     "output_type": "stream",
     "text": [
      "Best parameters:  {'max_depth': 8, 'max_features': 6, 'n_estimators': 600}\n",
      "Best score:  0.8500345557906976\n",
      "MAE RFC:  1140.306520041766\n",
      "RMSE RFC:  1555.23839521138\n"
     ]
    }
   ],
   "source": [
    "from sklearn.model_selection import GridSearchCV\n",
    "\n",
    "reg=RandomForestRegressor()\n",
    "\n",
    "# Parámetros\n",
    "param_grid = {'max_depth': [4, 8, 12],\n",
    "              'max_features': [3, 6, 9],\n",
    "              'n_estimators': [300, 600, 900]}\n",
    "\n",
    "# Búsqueda mejor modelo\n",
    "grid_search = GridSearchCV(estimator=reg, param_grid=param_grid, cv=5)\n",
    "grid_search.fit(X_train, y_train)\n",
    "# Mejores parámetros\n",
    "print(\"Best parameters: \", grid_search.best_params_)\n",
    "print(\"Best score: \", grid_search.best_score_)\n",
    "\n",
    "# Estimar el modelo\n",
    "best_regressor = grid_search.best_estimator_\n",
    "\n",
    "# Predicción\n",
    "y_pred = best_regressor.predict(X_test)\n",
    "\n",
    "maerfc = mean_absolute_error(y_test, y_pred)\n",
    "rmserfc = np.sqrt(mean_squared_error(y_test, y_pred))\n",
    "\n",
    "print(\"MAE RFC: \", maerfc)\n",
    "print(\"RMSE RFC: \", rmserfc)"
   ]
  },
  {
   "cell_type": "markdown",
   "metadata": {},
   "source": [
    "### Punto 6 - XGBoost con librería\n",
    "\n",
    "En la celda 6 implementen un modelo XGBoost de regresión con la librería sklearn y comenten sobre el desempeño del modelo."
   ]
  },
  {
   "cell_type": "code",
   "execution_count": 31,
   "metadata": {},
   "outputs": [
    {
     "name": "stdout",
     "output_type": "stream",
     "text": [
      "MAE XGB:  1185.227294921875\n",
      "RMSE XGB:  1605.2354967418332\n"
     ]
    }
   ],
   "source": [
    "# Celda 6\n",
    "from xgboost import XGBRegressor\n",
    "reg = XGBRegressor()\n",
    "# Entrenamiento (fit) y desempeño del modelo XGBClassifier\n",
    "reg.fit(X_train, y_train)\n",
    "y_pred = reg.predict(X_test)\n",
    "maexgb = mean_absolute_error(y_test, y_pred)\n",
    "rmsexgb = np.sqrt(mean_squared_error(y_test, y_pred))\n",
    "\n",
    "print(\"MAE XGB: \", maexgb)\n",
    "print(\"RMSE XGB: \", rmsexgb)"
   ]
  },
  {
   "cell_type": "markdown",
   "metadata": {},
   "source": [
    "### Punto 7 - Calibración de parámetros XGBoost\n",
    "\n",
    "En la celda 7 calibren los parámetros learning rate, gamma y colsample_bytree del modelo XGBoost para regresión, comenten sobre el desempeño del modelo y describan cómo cada parámetro afecta el desempeño del modelo."
   ]
  },
  {
   "cell_type": "markdown",
   "metadata": {},
   "source": [
    "### learning rate"
   ]
  },
  {
   "cell_type": "code",
   "execution_count": 32,
   "metadata": {},
   "outputs": [],
   "source": [
    "# Celda 7\n",
    "# Creación de lista de valores para iterar sobre diferentes valores de learning_rate\n",
    "rate_range = np.arange (0.01, 0.2, 0.01)\n",
    "\n",
    "# Definición de lista para almacenar el rmse promedio para cada valor de learning_rate\n",
    "rmse = []\n",
    "\n",
    "# Uso de un 5-fold cross-validation para cada valor de learning_rate\n",
    "for rate in rate_range:\n",
    "    clf = XGBRegressor(learning_rate=rate, random_state=1, n_jobs=-1)\n",
    "    rmse.append(-cross_val_score(clf, X_train, y_train, cv=5, scoring='neg_root_mean_squared_error').mean())"
   ]
  },
  {
   "cell_type": "code",
   "execution_count": 33,
   "metadata": {},
   "outputs": [
    {
     "data": {
      "text/plain": [
       "Text(0, 0.5, 'RMSE')"
      ]
     },
     "execution_count": 33,
     "metadata": {},
     "output_type": "execute_result"
    },
    {
     "data": {
      "image/png": "[encoded data removed]",
      "text/plain": [
       "<Figure size 640x480 with 1 Axes>"
      ]
     },
     "metadata": {},
     "output_type": "display_data"
    }
   ],
   "source": [
    "# Gráfica del desempeño del modelo vs la cantidad de learning_rate\n",
    "plt.plot(rate_range, rmse)\n",
    "plt.xlabel('learning_rate')\n",
    "plt.ylabel('RMSE')"
   ]
  },
  {
   "cell_type": "markdown",
   "metadata": {},
   "source": [
    "### gamma"
   ]
  },
  {
   "cell_type": "code",
   "execution_count": 34,
   "metadata": {},
   "outputs": [],
   "source": [
    "# Creación de lista de valores para iterar sobre diferentes valores de max_features\n",
    "gamma_range = np.arange (0, 30000, 1000)\n",
    "\n",
    "# Definición de lista para almacenar el rmse promedio para cada valor de max_features\n",
    "rmse = []\n",
    "\n",
    "# Uso de un 5-fold cross-validation para cada valor de max_features\n",
    "for gamma in gamma_range:\n",
    "    clf = XGBRegressor(gamma=gamma, random_state=1, n_jobs=-1)\n",
    "    rmse.append(-cross_val_score(clf, X_train, y_train, cv=5, scoring='neg_root_mean_squared_error').mean())"
   ]
  },
  {
   "cell_type": "code",
   "execution_count": 35,
   "metadata": {},
   "outputs": [
    {
     "data": {
      "text/plain": [
       "Text(0, 0.5, 'RMSE')"
      ]
     },
     "execution_count": 35,
     "metadata": {},
     "output_type": "execute_result"
    },
    {
     "data": {
      "image/png": "[encoded data removed]",
      "text/plain": [
       "<Figure size 640x480 with 1 Axes>"
      ]
     },
     "metadata": {},
     "output_type": "display_data"
    }
   ],
   "source": [
    "# Gráfica del desempeño del modelo vs la cantidad de max_features\n",
    "plt.plot(gamma_range, rmse)\n",
    "plt.xlabel('gamma')\n",
    "plt.ylabel('RMSE')"
   ]
  },
  {
   "cell_type": "markdown",
   "metadata": {},
   "source": [
    "### colsample_bytree"
   ]
  },
  {
   "cell_type": "code",
   "execution_count": 36,
   "metadata": {},
   "outputs": [],
   "source": [
    "# Creación de lista de valores para iterar sobre diferentes valores de colsample_bytree¶\n",
    "col_range = np.arange (0, 1, 0.01)\n",
    "\n",
    "# Definición de lista para almacenar el rmse promedio para cada valor de colsample_bytree¶\n",
    "rmse = []\n",
    "\n",
    "# Uso de un 5-fold cross-validation para cada valor de colsample_bytree¶\n",
    "for col in col_range:\n",
    "    clf = XGBRegressor(colsample_bytree=col, random_state=1, n_jobs=-1)\n",
    "    rmse.append(-cross_val_score(clf, X_train, y_train, cv=5, scoring='neg_root_mean_squared_error').mean())"
   ]
  },
  {
   "cell_type": "code",
   "execution_count": 37,
   "metadata": {},
   "outputs": [
    {
     "data": {
      "text/plain": [
       "Text(0, 0.5, 'RMSE')"
      ]
     },
     "execution_count": 37,
     "metadata": {},
     "output_type": "execute_result"
    },
    {
     "data": {
      "image/png": "[encoded data removed]",
      "text/plain": [
       "<Figure size 640x480 with 1 Axes>"
      ]
     },
     "metadata": {},
     "output_type": "display_data"
    }
   ],
   "source": [
    "# Gráfica del desempeño del modelo vs la cantidad de colsample_bytree¶\n",
    "plt.plot(col_range, rmse)\n",
    "plt.xlabel('colsample_bytree')\n",
    "plt.ylabel('RMSE')"
   ]
  },
  {
   "cell_type": "code",
   "execution_count": 38,
   "metadata": {},
   "outputs": [
    {
     "name": "stdout",
     "output_type": "stream",
     "text": [
      "MAE XGBC:  1882.3758544921875\n",
      "RMSE XGBC:  2443.653003190101\n"
     ]
    }
   ],
   "source": [
    "from xgboost import XGBRegressor\n",
    "reg = XGBRegressor(learning_rate=0.025,gamma=30000,colsample_bytree=0.2)\n",
    "# Entrenamiento (fit) y desempeño del modelo XGBClassifier\n",
    "reg.fit(X_train, y_train)\n",
    "y_pred = reg.predict(X_test)\n",
    "maexgbc = mean_absolute_error(y_test, y_pred)\n",
    "rmsexgbc = np.sqrt(mean_squared_error(y_test, y_pred))\n",
    "\n",
    "print(\"MAE XGBC: \", maexgbc)\n",
    "print(\"RMSE XGBC: \", rmsexgbc)"
   ]
  },
  {
   "cell_type": "markdown",
   "metadata": {},
   "source": [
    "### Grid Search"
   ]
  },
  {
   "cell_type": "code",
   "execution_count": 39,
   "metadata": {},
   "outputs": [
    {
     "name": "stdout",
     "output_type": "stream",
     "text": [
      "Best parameters:  {'colsample_bytree': 0.5, 'gamma': 20000, 'learning_rate': 0.075}\n",
      "Best score:  0.8523061037063598\n",
      "MAE XGBC:  1134.1314697265625\n",
      "RMSE XGBC:  1543.350008909191\n"
     ]
    }
   ],
   "source": [
    "from sklearn.model_selection import GridSearchCV\n",
    "\n",
    "reg=XGBRegressor()\n",
    "\n",
    "# Parámetros\n",
    "param_grid = {'learning_rate': [0.025, 0.05, 0.075],\n",
    "              'gamma': [10000, 20000, 30000],\n",
    "              'colsample_bytree': [0.2, 0.5, 0.8]}\n",
    "\n",
    "# Búsqueda mejor modelo\n",
    "grid_search = GridSearchCV(estimator=reg, param_grid=param_grid, cv=5)\n",
    "grid_search.fit(X_train, y_train)\n",
    "# Mejores parámetros\n",
    "print(\"Best parameters: \", grid_search.best_params_)\n",
    "print(\"Best score: \", grid_search.best_score_)\n",
    "\n",
    "# Estimar el modelo\n",
    "best_regressor = grid_search.best_estimator_\n",
    "\n",
    "# Predicción\n",
    "y_pred = best_regressor.predict(X_test)\n",
    "\n",
    "maexgbc = mean_absolute_error(y_test, y_pred)\n",
    "rmsexgbc = np.sqrt(mean_squared_error(y_test, y_pred))\n",
    "\n",
    "print(\"MAE XGBC: \", maexgbc)\n",
    "print(\"RMSE XGBC: \", rmsexgbc)"
   ]
  },
  {
   "cell_type": "markdown",
   "metadata": {},
   "source": [
    "### Punto 8 - Comparación y análisis de resultados\n",
    "En la celda 8 comparen los resultados obtenidos de los diferentes modelos (random forest y XGBoost) y comenten las ventajas del mejor modelo y las desventajas del modelo con el menor desempeño."
   ]
  },
  {
   "cell_type": "code",
   "execution_count": 40,
   "metadata": {},
   "outputs": [
    {
     "data": {
      "image/png": "[encoded data removed]",
      "text/plain": [
       "<Figure size 640x480 with 1 Axes>"
      ]
     },
     "metadata": {},
     "output_type": "display_data"
    }
   ],
   "source": [
    "# Celda 8\n",
    "import numpy as np\n",
    "\n",
    "def addlabels(x,y):\n",
    "    for i in range(len(x)):\n",
    "        plt.text(i,y[i],y[i],ha='center')\n",
    "\n",
    "MAE=[maetree,maebagm,maebagl,maerf,maerfc,maexgb,maexgbc]\n",
    "RMSE=[rmsetree,rmsebagm,rmsebagl,rmserf,rmserfc,rmsexgb,rmsexgbc]\n",
    "\n",
    "bars=np.arange(len(MAE))\n",
    "\n",
    "plt.bar(bars,MAE,label='MAE')\n",
    "\n",
    "plt.xlabel('model')\n",
    "plt.xticks(bars,['Tree','BagM','BagL','RF','RFC','XGB','XGBC'])\n",
    "\n",
    "MAE=[round(x,2) for x in MAE]\n",
    "addlabels(bars,MAE)\n",
    "\n",
    "plt.legend()\n",
    "plt.show()"
   ]
  },
  {
   "cell_type": "code",
   "execution_count": 41,
   "metadata": {},
   "outputs": [
    {
     "data": {
      "image/png": "[encoded data removed]",
      "text/plain": [
       "<Figure size 640x480 with 1 Axes>"
      ]
     },
     "metadata": {},
     "output_type": "display_data"
    }
   ],
   "source": [
    "plt.bar(bars,RMSE,label='RMSE')\n",
    "\n",
    "plt.xlabel('model')\n",
    "plt.xticks(bars,['Tree','BagM','BagL','RF','RFC','XGB','XGBC'])\n",
    "\n",
    "RMSE=[round(x,2) for x in RMSE]\n",
    "addlabels(bars,RMSE)\n",
    "\n",
    "plt.legend()\n",
    "plt.show()"
   ]
  }
 ],
 "metadata": {
  "kernelspec": {
   "display_name": "Python 3",
   "language": "python",
   "name": "python3"
  },
  "language_info": {
   "codemirror_mode": {
    "name": "ipython",
    "version": 3
   },
   "file_extension": ".py",
   "mimetype": "text/x-python",
   "name": "python",
   "nbconvert_exporter": "python",
   "pygments_lexer": "ipython3",
   "version": "3.11.9"
  }
 },
 "nbformat": 4,
 "nbformat_minor": 4
}
