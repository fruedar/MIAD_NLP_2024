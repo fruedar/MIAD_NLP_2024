{
 "cells": [
  {
   "cell_type": "markdown",
   "metadata": {
    "id": "JobAyJx67Jrm"
   },
   "source": [
    "![image info](https://raw.githubusercontent.com/albahnsen/MIAD_ML_and_NLP/main/images/banner_1.png)"
   ]
  },
  {
   "cell_type": "markdown",
   "metadata": {
    "id": "7n14bqXe7NO8"
   },
   "source": [
    "# Calibración de parámetros de redes neuronales\n",
    "En este notebook aprenderá a calibrar parámetros de redes neuronales con dos diferentes metodologías usando la librería Keras y sklearn.model_selection."
   ]
  },
  {
   "cell_type": "markdown",
   "metadata": {
    "id": "CJSdZveh7lg-"
   },
   "source": [
    "## Instrucciones Generales\n",
    "\n",
    "Este notebook esta compuesto por tres secciones. En la primera sección, usted beberá calibrar una red neuronal para predecir el precio de una casa con el set de datos Boston Housing Data y con el método de busqueda por cuadrícula (Grid Search). En la segunda, se usará el mismo dataset pero usted beberá calibrar la red neuronal con el método de busqueda aleatoria (Randomized Search), lo que le permitirá identificar las ventajas y diferencias entre los dos métodos. Para conocer más detalles de la base, puede ingresar al siguiente [vínculo](https://archive.ics.uci.edu/ml/machine-learning-databases/housing/).\n",
    "   \n",
    "Para realizar la actividad, solo siga las indicaciones asociadas a cada celda del notebook. "
   ]
  },
  {
   "cell_type": "markdown",
   "metadata": {
    "id": "gOGLBrdc94q8"
   },
   "source": [
    "## Importar base de datos y librerías"
   ]
  },
  {
   "cell_type": "code",
   "execution_count": 1,
   "metadata": {},
   "outputs": [],
   "source": [
    "import warnings\n",
    "warnings.filterwarnings('ignore')"
   ]
  },
  {
   "cell_type": "code",
   "execution_count": 2,
   "metadata": {
    "id": "kbt-2z_VBZ-p"
   },
   "outputs": [],
   "source": [
    "# Importación librerías\n",
    "import pandas as pd\n",
    "from sklearn.datasets import load_boston\n",
    "import numpy as np\n",
    "import matplotlib.pyplot as plt\n",
    "from sklearn.model_selection import train_test_split\n",
    "from sklearn.preprocessing import StandardScaler"
   ]
  },
  {
   "cell_type": "code",
   "execution_count": 3,
   "metadata": {
    "colab": {
     "base_uri": "https://localhost:8080/",
     "height": 206
    },
    "id": "5p1mbuz_BqR0",
    "outputId": "f3c689ba-271f-44ca-8fdf-d95708cca34a"
   },
   "outputs": [
    {
     "data": {
      "text/html": [
       "<div>\n",
       "<style scoped>\n",
       "    .dataframe tbody tr th:only-of-type {\n",
       "        vertical-align: middle;\n",
       "    }\n",
       "\n",
       "    .dataframe tbody tr th {\n",
       "        vertical-align: top;\n",
       "    }\n",
       "\n",
       "    .dataframe thead th {\n",
       "        text-align: right;\n",
       "    }\n",
       "</style>\n",
       "<table border=\"1\" class=\"dataframe\">\n",
       "  <thead>\n",
       "    <tr style=\"text-align: right;\">\n",
       "      <th></th>\n",
       "      <th>CRIM</th>\n",
       "      <th>ZN</th>\n",
       "      <th>INDUS</th>\n",
       "      <th>CHAS</th>\n",
       "      <th>NOX</th>\n",
       "      <th>RM</th>\n",
       "      <th>AGE</th>\n",
       "      <th>DIS</th>\n",
       "      <th>RAD</th>\n",
       "      <th>TAX</th>\n",
       "      <th>PTRATIO</th>\n",
       "      <th>B</th>\n",
       "      <th>LSTAT</th>\n",
       "    </tr>\n",
       "  </thead>\n",
       "  <tbody>\n",
       "    <tr>\n",
       "      <th>0</th>\n",
       "      <td>0.00632</td>\n",
       "      <td>18.0</td>\n",
       "      <td>2.31</td>\n",
       "      <td>0.0</td>\n",
       "      <td>0.538</td>\n",
       "      <td>6.575</td>\n",
       "      <td>65.2</td>\n",
       "      <td>4.0900</td>\n",
       "      <td>1.0</td>\n",
       "      <td>296.0</td>\n",
       "      <td>15.3</td>\n",
       "      <td>396.90</td>\n",
       "      <td>4.98</td>\n",
       "    </tr>\n",
       "    <tr>\n",
       "      <th>1</th>\n",
       "      <td>0.02731</td>\n",
       "      <td>0.0</td>\n",
       "      <td>7.07</td>\n",
       "      <td>0.0</td>\n",
       "      <td>0.469</td>\n",
       "      <td>6.421</td>\n",
       "      <td>78.9</td>\n",
       "      <td>4.9671</td>\n",
       "      <td>2.0</td>\n",
       "      <td>242.0</td>\n",
       "      <td>17.8</td>\n",
       "      <td>396.90</td>\n",
       "      <td>9.14</td>\n",
       "    </tr>\n",
       "    <tr>\n",
       "      <th>2</th>\n",
       "      <td>0.02729</td>\n",
       "      <td>0.0</td>\n",
       "      <td>7.07</td>\n",
       "      <td>0.0</td>\n",
       "      <td>0.469</td>\n",
       "      <td>7.185</td>\n",
       "      <td>61.1</td>\n",
       "      <td>4.9671</td>\n",
       "      <td>2.0</td>\n",
       "      <td>242.0</td>\n",
       "      <td>17.8</td>\n",
       "      <td>392.83</td>\n",
       "      <td>4.03</td>\n",
       "    </tr>\n",
       "    <tr>\n",
       "      <th>3</th>\n",
       "      <td>0.03237</td>\n",
       "      <td>0.0</td>\n",
       "      <td>2.18</td>\n",
       "      <td>0.0</td>\n",
       "      <td>0.458</td>\n",
       "      <td>6.998</td>\n",
       "      <td>45.8</td>\n",
       "      <td>6.0622</td>\n",
       "      <td>3.0</td>\n",
       "      <td>222.0</td>\n",
       "      <td>18.7</td>\n",
       "      <td>394.63</td>\n",
       "      <td>2.94</td>\n",
       "    </tr>\n",
       "    <tr>\n",
       "      <th>4</th>\n",
       "      <td>0.06905</td>\n",
       "      <td>0.0</td>\n",
       "      <td>2.18</td>\n",
       "      <td>0.0</td>\n",
       "      <td>0.458</td>\n",
       "      <td>7.147</td>\n",
       "      <td>54.2</td>\n",
       "      <td>6.0622</td>\n",
       "      <td>3.0</td>\n",
       "      <td>222.0</td>\n",
       "      <td>18.7</td>\n",
       "      <td>396.90</td>\n",
       "      <td>5.33</td>\n",
       "    </tr>\n",
       "  </tbody>\n",
       "</table>\n",
       "</div>"
      ],
      "text/plain": [
       "      CRIM    ZN  INDUS  CHAS    NOX     RM   AGE     DIS  RAD    TAX  \\\n",
       "0  0.00632  18.0   2.31   0.0  0.538  6.575  65.2  4.0900  1.0  296.0   \n",
       "1  0.02731   0.0   7.07   0.0  0.469  6.421  78.9  4.9671  2.0  242.0   \n",
       "2  0.02729   0.0   7.07   0.0  0.469  7.185  61.1  4.9671  2.0  242.0   \n",
       "3  0.03237   0.0   2.18   0.0  0.458  6.998  45.8  6.0622  3.0  222.0   \n",
       "4  0.06905   0.0   2.18   0.0  0.458  7.147  54.2  6.0622  3.0  222.0   \n",
       "\n",
       "   PTRATIO       B  LSTAT  \n",
       "0     15.3  396.90   4.98  \n",
       "1     17.8  396.90   9.14  \n",
       "2     17.8  392.83   4.03  \n",
       "3     18.7  394.63   2.94  \n",
       "4     18.7  396.90   5.33  "
      ]
     },
     "execution_count": 3,
     "metadata": {},
     "output_type": "execute_result"
    }
   ],
   "source": [
    "from sklearn.datasets import load_boston\n",
    "# Carga de datos de la librería sklearn\n",
    "boston_dataset = load_boston()\n",
    "boston = pd.DataFrame(boston_dataset.data, columns=boston_dataset.feature_names)\n",
    "boston.head()"
   ]
  },
  {
   "cell_type": "markdown",
   "metadata": {
    "id": "gJhBGPZZ99ME"
   },
   "source": [
    "## Definición de variables predictoras  y de interés"
   ]
  },
  {
   "cell_type": "code",
   "execution_count": 4,
   "metadata": {
    "id": "YF-qHy3cBqKT"
   },
   "outputs": [],
   "source": [
    "# Definición de variables predictoras (X)\n",
    "X = boston.drop(boston.columns[-1],axis=1)\n",
    "# Definición de variable de interés (y)\n",
    "Y = pd.DataFrame(np.array(boston_dataset.target), columns=['labels'])"
   ]
  },
  {
   "cell_type": "code",
   "execution_count": 5,
   "metadata": {
    "id": "ekbRHWCMBqHc"
   },
   "outputs": [],
   "source": [
    "# Separación de variables predictoras (X) y variable de interés (y) en set de entrenamiento y test usando la función train_test_split\n",
    "X_train, X_test , Y_train, Y_test = train_test_split(X,Y, test_size=0.3 ,random_state=22)"
   ]
  },
  {
   "cell_type": "code",
   "execution_count": 6,
   "metadata": {
    "id": "uLls8jzgBvFn"
   },
   "outputs": [],
   "source": [
    "# Normalización de variables predictoras (X) con la función StandardScaler\n",
    "\n",
    "# Definición de la función StandardScaler\n",
    "scaler = StandardScaler()\n",
    "scaler.fit(X)\n",
    "\n",
    "# Transformación de los set de entrenamiento y test\n",
    "X_train = pd.DataFrame(data=scaler.transform(X_train), columns=X_train.columns, index=X_train.index)\n",
    "X_test = pd.DataFrame(data=scaler.transform(X_test), columns=X_test.columns, index=X_test.index)\n",
    "\n",
    "X_train = np.array(X_train)\n",
    "Y_train = np.array(Y_train)\n",
    "\n",
    "X_test = np.array(X_test)\n",
    "Y_test = np.array(Y_test)"
   ]
  },
  {
   "cell_type": "code",
   "execution_count": 7,
   "metadata": {
    "colab": {
     "base_uri": "https://localhost:8080/"
    },
    "id": "M9v1UsRfBvDB",
    "outputId": "70506311-a640-44ce-9cd3-940b3510e246"
   },
   "outputs": [
    {
     "name": "stdout",
     "output_type": "stream",
     "text": [
      "1  output variables\n"
     ]
    }
   ],
   "source": [
    "# Definición de dimensiones de salida (variables de interés)\n",
    "output_var = Y_train.shape[1]\n",
    "print(output_var, ' output variables')"
   ]
  },
  {
   "cell_type": "code",
   "execution_count": 8,
   "metadata": {
    "colab": {
     "base_uri": "https://localhost:8080/"
    },
    "id": "r3qYY0pQBvAv",
    "outputId": "9b39cdc3-eeb0-4bbc-ce16-f8b606e000b0"
   },
   "outputs": [
    {
     "name": "stdout",
     "output_type": "stream",
     "text": [
      "12 input variables\n"
     ]
    }
   ],
   "source": [
    "# Definición de dimensiones de entrada (variables predictoras)\n",
    "dims = X_train.shape[1]\n",
    "print(dims, 'input variables')"
   ]
  },
  {
   "cell_type": "code",
   "execution_count": 9,
   "metadata": {
    "id": "TeUQHtBD--6O"
   },
   "outputs": [],
   "source": [
    "# Separación de datos de entrenamiento para considerar un set de validación durante entrenamiento\n",
    "X_train, X_val, Y_train, Y_val = train_test_split(X_train, Y_train, test_size=0.15, random_state=42)"
   ]
  },
  {
   "cell_type": "markdown",
   "metadata": {
    "id": "monq1M5YCY1i"
   },
   "source": [
    "## Red Neuronal\n",
    "\n",
    "En esta sección se construirá un modelo de red neuronal mediante una función (*nn_model_params*) que parametriza los diferentes parámetros a calibrar. "
   ]
  },
  {
   "cell_type": "code",
   "execution_count": 12,
   "metadata": {
    "colab": {
     "base_uri": "https://localhost:8080/"
    },
    "id": "19gHI5k3SUI-",
    "outputId": "55aa4ed9-897c-4eb5-8846-cc56dba47f3b",
    "scrolled": true
   },
   "outputs": [],
   "source": [
    "# Para correr esta sección instale la librería livelossplot\n",
    "#pip install livelossplot"
   ]
  },
  {
   "cell_type": "code",
   "execution_count": 13,
   "metadata": {
    "id": "aaOKn_dwCZKq"
   },
   "outputs": [],
   "source": [
    "# Importación librerías\n",
    "from keras.models import Sequential, Model\n",
    "from keras.layers import Dense, Input\n",
    "from keras import metrics\n",
    "from keras.wrappers.scikit_learn import KerasClassifier, KerasRegressor\n",
    "from keras.callbacks import EarlyStopping\n",
    "from keras import backend as K\n",
    "from livelossplot import PlotLossesKeras"
   ]
  },
  {
   "cell_type": "code",
   "execution_count": 14,
   "metadata": {
    "id": "jMfssAh9ClOS"
   },
   "outputs": [],
   "source": [
    "# Definición de función que crea una red neuronal a partir de diferentes parámetros (nn_model_params)\n",
    "# En esta función se consideran 7 parámetos a calibrar, sin embargo se pueden agregar o quitar tantos como lo consideren pertinente\n",
    "def nn_model_params(optimizer ,\n",
    "                    neurons,\n",
    "                    batch_size,\n",
    "                    epochs,\n",
    "                    activation,\n",
    "                    patience,\n",
    "                    loss):\n",
    "    \n",
    "    K.clear_session()\n",
    "\n",
    "    # Definición red neuronal con la función Sequential()\n",
    "    model = Sequential()\n",
    "    \n",
    "    # Definición de las capas de la red con el número de neuronas y la función de activación definidos en la función nn_model_params\n",
    "    model.add(Dense(neurons, input_shape=(dims,), activation=activation))\n",
    "    model.add(Dense(neurons, activation=activation))\n",
    "    model.add(Dense(output_var, activation=activation))\n",
    "\n",
    "    # Definición de función de perdida con parámetros definidos en la función nn_model_params\n",
    "    model.compile(optimizer = optimizer, loss=loss)\n",
    "    \n",
    "    # Definición de la función EarlyStopping con parámetro definido en la función nn_model_params\n",
    "    early_stopping = EarlyStopping(monitor=\"val_loss\", patience = patience)\n",
    "\n",
    "    # Entrenamiento de la red neuronal con parámetros definidos en la función nn_model_params\n",
    "    model.fit(X_train, Y_train,\n",
    "              validation_data = (X_val, Y_val),\n",
    "              epochs=epochs,\n",
    "              batch_size=batch_size,\n",
    "              callbacks=[early_stopping, PlotLossesKeras()],\n",
    "              verbose=True\n",
    "              )\n",
    "     \n",
    "    return model"
   ]
  },
  {
   "cell_type": "code",
   "execution_count": 15,
   "metadata": {
    "id": "pMahbr2O7DcX"
   },
   "outputs": [],
   "source": [
    "# Definición de parámetros y sus valores sobre los que se va a calibrar\n",
    "nn_params = {\n",
    "    'optimizer': ['adam','sgd'],\n",
    "    'activation': ['relu'],\n",
    "    'batch_size': [64,128],\n",
    "    'neurons':[64,256],\n",
    "    'epochs':[20,50],\n",
    "    'patience':[2,5],\n",
    "    'loss':['mean_squared_error']\n",
    "}"
   ]
  },
  {
   "cell_type": "markdown",
   "metadata": {
    "id": "WMxeJIDU-Ex7"
   },
   "source": [
    "## Método busqueda por cuadrícula (Grid Search)\n",
    "\n",
    "La búsqueda por cuadrícula es un método de calibración de parámetros donde se considera exhaustivamente todas las combinaciones de parámetros de un conjunto determinado."
   ]
  },
  {
   "cell_type": "code",
   "execution_count": 16,
   "metadata": {
    "colab": {
     "base_uri": "https://localhost:8080/",
     "height": 674
    },
    "id": "60H_vZzrColz",
    "outputId": "b1bdbc86-fa94-4425-8b1a-572ff814ea9f"
   },
   "outputs": [
    {
     "data": {
      "image/png": "[encoded data removed]",
      "text/plain": [
       "<Figure size 864x576 with 2 Axes>"
      ]
     },
     "metadata": {
      "needs_background": "light"
     },
     "output_type": "display_data"
    },
    {
     "name": "stdout",
     "output_type": "stream",
     "text": [
      "Loss\n",
      "\ttraining         \t (min:   17.954, max:  550.491, cur:   17.954)\n",
      "\tvalidation       \t (min:   17.432, max:  455.017, cur:   17.474)\n",
      "5/5 [==============================] - 0s 45ms/step - loss: 17.9541 - val_loss: 17.4742\n",
      "Los mejores parametros segun Grid Search: {'activation': 'relu', 'batch_size': 64, 'epochs': 50, 'loss': 'mean_squared_error', 'neurons': 256, 'optimizer': 'adam', 'patience': 5}\n"
     ]
    }
   ],
   "source": [
    "from sklearn.model_selection import GridSearchCV\n",
    "\n",
    "# Definición de red neuronal usando el wrapper KerasRegressor y usando como argumento build_fn en la función nn_model_params\n",
    "# para más detalles del wrapper puede ingresar al siguiente link https://faroit.com/keras-docs/1.2.2/scikit-learn-api/\n",
    "nn_model = KerasRegressor(build_fn=nn_model_params, verbose=0)\n",
    "\n",
    "# Definición método GridSearch para la calibración de parámetros definidos en nn_params\n",
    "gs = GridSearchCV(nn_model, nn_params, cv=3)\n",
    "gs.fit(X_train, Y_train)\n",
    "\n",
    "print('Los mejores parametros segun Grid Search:', gs.best_params_)"
   ]
  },
  {
   "cell_type": "markdown",
   "metadata": {
    "id": "_5XDq3VD-lht"
   },
   "source": [
    "## Método busqueda aleatoria (Randomized Search)\n",
    "\n",
    "La busqueda aleatoria es un método de calibración de parámetros donde se consideran combinaciones aleatorias de parámetros de un conjunto determinado."
   ]
  },
  {
   "cell_type": "code",
   "execution_count": 17,
   "metadata": {
    "colab": {
     "base_uri": "https://localhost:8080/",
     "height": 674
    },
    "id": "69ZrV0OKCTlq",
    "outputId": "98052070-3f7b-4c84-f315-6c81b17d4462"
   },
   "outputs": [
    {
     "data": {
      "image/png": "[encoded data removed]",
      "text/plain": [
       "<Figure size 864x576 with 2 Axes>"
      ]
     },
     "metadata": {
      "needs_background": "light"
     },
     "output_type": "display_data"
    },
    {
     "name": "stdout",
     "output_type": "stream",
     "text": [
      "Loss\n",
      "\ttraining         \t (min:  173.525, max:  510.215, cur:  173.525)\n",
      "\tvalidation       \t (min:  154.461, max:  193.419, cur:  157.863)\n",
      "3/3 [==============================] - 0s 91ms/step - loss: 173.5250 - val_loss: 157.8629\n",
      "Los mejores parametros segun Randomnized Search: {'patience': 2, 'optimizer': 'sgd', 'neurons': 64, 'loss': 'mean_squared_error', 'epochs': 20, 'batch_size': 128, 'activation': 'relu'}\n"
     ]
    }
   ],
   "source": [
    "from sklearn.model_selection import RandomizedSearchCV\n",
    "\n",
    "# Definición de red neuronal usando el wrapper KerasRegressor y usando como argumento build_fn en la función nn_model_params\n",
    "nn_model = KerasRegressor(build_fn=nn_model_params, verbose=0)\n",
    "\n",
    "# Definición método GridSearch para la calibración de parámetros definidos en nn_params\n",
    "rs = RandomizedSearchCV(nn_model, param_distributions=nn_params, n_iter=5, cv=3)\n",
    "rs.fit(X_train, Y_train)\n",
    "\n",
    "print('Los mejores parametros segun Randomnized Search:', rs.best_params_)"
   ]
  },
  {
   "cell_type": "markdown",
   "metadata": {
    "id": "_opRoBB7RYfu"
   },
   "source": [
    "## Comparación de resultados\n",
    "En esta última sección se comparará el desempeño de la red neuronal en el set de test con la métrica del MSE, dados los parámetros calibrados que se obtuvieron en cada uno de los métodos."
   ]
  },
  {
   "cell_type": "code",
   "execution_count": 18,
   "metadata": {
    "colab": {
     "base_uri": "https://localhost:8080/",
     "height": 654
    },
    "id": "jLfXdEiM1tzx",
    "outputId": "d9528a6e-9b15-49b6-ab0f-02c330adf963"
   },
   "outputs": [
    {
     "data": {
      "image/png": "[encoded data removed]",
      "text/plain": [
       "<Figure size 864x576 with 2 Axes>"
      ]
     },
     "metadata": {
      "needs_background": "light"
     },
     "output_type": "display_data"
    },
    {
     "name": "stdout",
     "output_type": "stream",
     "text": [
      "Loss\n",
      "\ttraining         \t (min:   18.595, max:  552.651, cur:   18.595)\n",
      "\tvalidation       \t (min:   16.470, max:  462.205, cur:   17.450)\n",
      "5/5 [==============================] - 0s 45ms/step - loss: 18.5954 - val_loss: 17.4504\n",
      "Valor de  loss  o MSE dados los parámetros de Grid Search: 18.9138240814209\n"
     ]
    }
   ],
   "source": [
    "# Desempeño de modelo con los parametros de Grid Search\n",
    "model = nn_model_params(optimizer = 'adam',\n",
    "                        neurons=256,\n",
    "                        batch_size=64,\n",
    "                        epochs=50,\n",
    "                        activation='relu',\n",
    "                        patience=5,\n",
    "                        loss='mean_squared_error')\n",
    "scores = model.evaluate(X_test, Y_test, verbose=0)\n",
    "print(\"Valor de \", model.metrics_names[0] ,\" o MSE dados los parámetros de Grid Search:\", scores)"
   ]
  },
  {
   "cell_type": "code",
   "execution_count": 19,
   "metadata": {
    "colab": {
     "base_uri": "https://localhost:8080/",
     "height": 654
    },
    "id": "kWzmoL6zNb5Y",
    "outputId": "d31af876-bd87-4d69-9c10-c85c2cf27836"
   },
   "outputs": [
    {
     "data": {
      "image/png": "[encoded data removed]",
      "text/plain": [
       "<Figure size 864x576 with 2 Axes>"
      ]
     },
     "metadata": {
      "needs_background": "light"
     },
     "output_type": "display_data"
    },
    {
     "name": "stdout",
     "output_type": "stream",
     "text": [
      "Loss\n",
      "\ttraining         \t (min:   23.300, max:  561.925, cur:   23.300)\n",
      "\tvalidation       \t (min:   21.656, max:  477.052, cur:   22.091)\n",
      "5/5 [==============================] - 0s 43ms/step - loss: 23.3000 - val_loss: 22.0914\n",
      "Valor de  loss  o MSE dados los parámetros de Randomized Search: 24.697595596313477\n"
     ]
    }
   ],
   "source": [
    "# Desempeño de modelo con los parametros de Randomized Search\n",
    "model = nn_model_params(optimizer = 'adam',\n",
    "                        neurons=256,\n",
    "                        batch_size=64,\n",
    "                        epochs=20,\n",
    "                        activation='relu',\n",
    "                        patience=5,\n",
    "                        loss='mean_squared_error')\n",
    "scores = model.evaluate(X_test, Y_test, verbose=0)\n",
    "print(\"Valor de \", model.metrics_names[0] ,\" o MSE dados los parámetros de Randomized Search:\", scores)"
   ]
  }
 ],
 "metadata": {
  "colab": {
   "collapsed_sections": [
    "gOGLBrdc94q8",
    "gJhBGPZZ99ME"
   ],
   "name": "S8LAB1_calibracion.ipynb",
   "provenance": []
  },
  "kernelspec": {
   "display_name": "Python 3",
   "language": "python",
   "name": "python3"
  },
  "language_info": {
   "codemirror_mode": {
    "name": "ipython",
    "version": 3
   },
   "file_extension": ".py",
   "mimetype": "text/x-python",
   "name": "python",
   "nbconvert_exporter": "python",
   "pygments_lexer": "ipython3",
   "version": "3.8.3"
  }
 },
 "nbformat": 4,
 "nbformat_minor": 1
}
