{
 "cells": [
  {
   "cell_type": "markdown",
   "metadata": {},
   "source": [
    "![image info](https://raw.githubusercontent.com/davidzarruk/MIAD_ML_NLP_2023/main/images/banner_1.png)"
   ]
  },
  {
   "cell_type": "markdown",
   "metadata": {},
   "source": [
    "# Disponibilización de modelos\n",
    "\n",
    "En este notebook aprenderá a guardar un modelo y a disponibilizarlo como una API con la librería Flask. Una API (interfaz de programación de aplicaciones) es un conjunto de definiciones y protocolos que permiten que servicios, en este caso modelos, retornen resultados y respuestas sin necesidad de saber cómo están implementados."
   ]
  },
  {
   "cell_type": "markdown",
   "metadata": {},
   "source": [
    "## Instrucciones Generales:\n",
    "\n",
    "Este notebook esta compuesto por dos secciones. En la primera secciónn, usted beberá entrenar y guardar (exportar) un modelo de random forest para predecir si una URL es phishing (fraudulenta) o no. En la segunda parte, usará el modelo entrenado y lo disponibilizara usando la libreria *Flask*. En el siguente paper puede conocer más detalles de la base de datos que usaremos y del problema: *A. Correa Bahnsen, E. C. Bohorquez, S. Villegas, J. Vargas, and F. A. Gonzalez, “Classifying phishing urls using recurrent neural networks,” in Electronic Crime Research (eCrime), 2017 APWG Symposium on. IEEE, 2017, pp. 1–8*. https://albahnsen.files.wordpress.com/2018/05/classifying-phishing-urls-using-recurrent-neural-networks_cameraready.pdf\n",
    "  \n",
    "Para realizar la actividad, solo siga las indicaciones asociadas a cada celda del notebook. \n"
   ]
  },
  {
   "cell_type": "markdown",
   "metadata": {},
   "source": [
    "## Importar base de datos y librerías"
   ]
  },
  {
   "cell_type": "code",
   "execution_count": 1,
   "metadata": {},
   "outputs": [],
   "source": [
    "import warnings\n",
    "warnings.filterwarnings('ignore')"
   ]
  },
  {
   "cell_type": "code",
   "execution_count": 2,
   "metadata": {},
   "outputs": [],
   "source": [
    "# Importación librerías\n",
    "import pandas as pd\n",
    "from sklearn.ensemble import RandomForestClassifier\n",
    "from sklearn.model_selection import cross_val_score\n",
    "import joblib\n",
    "\n",
    "import os\n",
    "os.getcwd()\n",
    "os.chdir('..')"
   ]
  },
  {
   "cell_type": "code",
   "execution_count": 3,
   "metadata": {},
   "outputs": [
    {
     "data": {
      "text/html": [
       "<div>\n",
       "<style scoped>\n",
       "    .dataframe tbody tr th:only-of-type {\n",
       "        vertical-align: middle;\n",
       "    }\n",
       "\n",
       "    .dataframe tbody tr th {\n",
       "        vertical-align: top;\n",
       "    }\n",
       "\n",
       "    .dataframe thead th {\n",
       "        text-align: right;\n",
       "    }\n",
       "</style>\n",
       "<table border=\"1\" class=\"dataframe\">\n",
       "  <thead>\n",
       "    <tr style=\"text-align: right;\">\n",
       "      <th></th>\n",
       "      <th>url</th>\n",
       "      <th>phishing</th>\n",
       "    </tr>\n",
       "  </thead>\n",
       "  <tbody>\n",
       "    <tr>\n",
       "      <th>0</th>\n",
       "      <td>http://www.subalipack.com/contact/images/sampl...</td>\n",
       "      <td>1</td>\n",
       "    </tr>\n",
       "    <tr>\n",
       "      <th>1</th>\n",
       "      <td>http://fasc.maximecapellot-gypsyjazz-ensemble....</td>\n",
       "      <td>1</td>\n",
       "    </tr>\n",
       "    <tr>\n",
       "      <th>2</th>\n",
       "      <td>http://theotheragency.com/confirmer/confirmer-...</td>\n",
       "      <td>1</td>\n",
       "    </tr>\n",
       "    <tr>\n",
       "      <th>3</th>\n",
       "      <td>http://aaalandscaping.com/components/com_smart...</td>\n",
       "      <td>1</td>\n",
       "    </tr>\n",
       "    <tr>\n",
       "      <th>4</th>\n",
       "      <td>http://paypal.com.confirm-key-21107316126168.s...</td>\n",
       "      <td>1</td>\n",
       "    </tr>\n",
       "  </tbody>\n",
       "</table>\n",
       "</div>"
      ],
      "text/plain": [
       "                                                 url  phishing\n",
       "0  http://www.subalipack.com/contact/images/sampl...         1\n",
       "1  http://fasc.maximecapellot-gypsyjazz-ensemble....         1\n",
       "2  http://theotheragency.com/confirmer/confirmer-...         1\n",
       "3  http://aaalandscaping.com/components/com_smart...         1\n",
       "4  http://paypal.com.confirm-key-21107316126168.s...         1"
      ]
     },
     "execution_count": 3,
     "metadata": {},
     "output_type": "execute_result"
    }
   ],
   "source": [
    "# Carga de datos de archivos .csv\n",
    "data = pd.read_csv('https://raw.githubusercontent.com/davidzarruk/MIAD_ML_NLP_2023/main/datasets/phishing.csv')\n",
    "data.head()"
   ]
  },
  {
   "cell_type": "markdown",
   "metadata": {},
   "source": [
    "## Codificar variables categóricas\n",
    "Relizar preprocesamiento de texto (URLs) para crear variables predictoras:"
   ]
  },
  {
   "cell_type": "code",
   "execution_count": 4,
   "metadata": {},
   "outputs": [
    {
     "data": {
      "text/html": [
       "<div>\n",
       "<style scoped>\n",
       "    .dataframe tbody tr th:only-of-type {\n",
       "        vertical-align: middle;\n",
       "    }\n",
       "\n",
       "    .dataframe tbody tr th {\n",
       "        vertical-align: top;\n",
       "    }\n",
       "\n",
       "    .dataframe thead th {\n",
       "        text-align: right;\n",
       "    }\n",
       "</style>\n",
       "<table border=\"1\" class=\"dataframe\">\n",
       "  <thead>\n",
       "    <tr style=\"text-align: right;\">\n",
       "      <th></th>\n",
       "      <th>url</th>\n",
       "      <th>phishing</th>\n",
       "      <th>keyword_https</th>\n",
       "      <th>keyword_login</th>\n",
       "      <th>keyword_.php</th>\n",
       "      <th>keyword_.html</th>\n",
       "      <th>keyword_@</th>\n",
       "      <th>keyword_sign</th>\n",
       "      <th>lenght</th>\n",
       "      <th>lenght_domain</th>\n",
       "      <th>isIP</th>\n",
       "      <th>count_com</th>\n",
       "    </tr>\n",
       "  </thead>\n",
       "  <tbody>\n",
       "    <tr>\n",
       "      <th>0</th>\n",
       "      <td>http://www.subalipack.com/contact/images/sampl...</td>\n",
       "      <td>1</td>\n",
       "      <td>0</td>\n",
       "      <td>0</td>\n",
       "      <td>0</td>\n",
       "      <td>0</td>\n",
       "      <td>0</td>\n",
       "      <td>0</td>\n",
       "      <td>47</td>\n",
       "      <td>18</td>\n",
       "      <td>0</td>\n",
       "      <td>1</td>\n",
       "    </tr>\n",
       "    <tr>\n",
       "      <th>1</th>\n",
       "      <td>http://fasc.maximecapellot-gypsyjazz-ensemble....</td>\n",
       "      <td>1</td>\n",
       "      <td>0</td>\n",
       "      <td>0</td>\n",
       "      <td>0</td>\n",
       "      <td>0</td>\n",
       "      <td>0</td>\n",
       "      <td>0</td>\n",
       "      <td>73</td>\n",
       "      <td>41</td>\n",
       "      <td>0</td>\n",
       "      <td>0</td>\n",
       "    </tr>\n",
       "    <tr>\n",
       "      <th>2</th>\n",
       "      <td>http://theotheragency.com/confirmer/confirmer-...</td>\n",
       "      <td>1</td>\n",
       "      <td>0</td>\n",
       "      <td>0</td>\n",
       "      <td>0</td>\n",
       "      <td>0</td>\n",
       "      <td>0</td>\n",
       "      <td>0</td>\n",
       "      <td>92</td>\n",
       "      <td>18</td>\n",
       "      <td>0</td>\n",
       "      <td>1</td>\n",
       "    </tr>\n",
       "    <tr>\n",
       "      <th>3</th>\n",
       "      <td>http://aaalandscaping.com/components/com_smart...</td>\n",
       "      <td>1</td>\n",
       "      <td>0</td>\n",
       "      <td>0</td>\n",
       "      <td>0</td>\n",
       "      <td>0</td>\n",
       "      <td>0</td>\n",
       "      <td>0</td>\n",
       "      <td>172</td>\n",
       "      <td>18</td>\n",
       "      <td>0</td>\n",
       "      <td>3</td>\n",
       "    </tr>\n",
       "    <tr>\n",
       "      <th>4</th>\n",
       "      <td>http://paypal.com.confirm-key-21107316126168.s...</td>\n",
       "      <td>1</td>\n",
       "      <td>0</td>\n",
       "      <td>0</td>\n",
       "      <td>0</td>\n",
       "      <td>0</td>\n",
       "      <td>0</td>\n",
       "      <td>0</td>\n",
       "      <td>90</td>\n",
       "      <td>50</td>\n",
       "      <td>0</td>\n",
       "      <td>1</td>\n",
       "    </tr>\n",
       "  </tbody>\n",
       "</table>\n",
       "</div>"
      ],
      "text/plain": [
       "                                                 url  phishing  keyword_https  \\\n",
       "0  http://www.subalipack.com/contact/images/sampl...         1              0   \n",
       "1  http://fasc.maximecapellot-gypsyjazz-ensemble....         1              0   \n",
       "2  http://theotheragency.com/confirmer/confirmer-...         1              0   \n",
       "3  http://aaalandscaping.com/components/com_smart...         1              0   \n",
       "4  http://paypal.com.confirm-key-21107316126168.s...         1              0   \n",
       "\n",
       "   keyword_login  keyword_.php  keyword_.html  keyword_@  keyword_sign  \\\n",
       "0              0             0              0          0             0   \n",
       "1              0             0              0          0             0   \n",
       "2              0             0              0          0             0   \n",
       "3              0             0              0          0             0   \n",
       "4              0             0              0          0             0   \n",
       "\n",
       "   lenght  lenght_domain  isIP  count_com  \n",
       "0      47             18     0          1  \n",
       "1      73             41     0          0  \n",
       "2      92             18     0          1  \n",
       "3     172             18     0          3  \n",
       "4      90             50     0          1  "
      ]
     },
     "execution_count": 4,
     "metadata": {},
     "output_type": "execute_result"
    }
   ],
   "source": [
    "# Creación de columnas binarias que indican si la URL contiene la palabra clave (keywords)\n",
    "keywords = ['https', 'login', '.php', '.html', '@', 'sign']\n",
    "for keyword in keywords:\n",
    "    data['keyword_' + keyword] = data.url.str.contains(keyword).astype(int)\n",
    "\n",
    "# Definición de la variable largo de la URL\n",
    "data['lenght'] = data.url.str.len() - 2\n",
    "\n",
    "# Definición de la variable largo del dominio de la URL\n",
    "domain = data.url.str.split('/', expand=True).iloc[:, 2]\n",
    "data['lenght_domain'] = domain.str.len()\n",
    "\n",
    "# Definición de la variable binaria que indica si es IP\n",
    "data['isIP'] = (domain.str.replace('.', '') * 1).str.isnumeric().astype(int)\n",
    "\n",
    "# Definicón de la variable cuenta de 'com' en la URL\n",
    "data['count_com'] = data.url.str.count('com')\n",
    "\n",
    "data.head()"
   ]
  },
  {
   "cell_type": "code",
   "execution_count": 5,
   "metadata": {},
   "outputs": [],
   "source": [
    "# Separación de variables predictoras (X) y variable de interes (y)\n",
    "X = data.drop(['url', 'phishing'], axis=1)\n",
    "y = data.phishing"
   ]
  },
  {
   "cell_type": "markdown",
   "metadata": {},
   "source": [
    "## Entrenar y guardar el modelo"
   ]
  },
  {
   "cell_type": "code",
   "execution_count": 6,
   "metadata": {},
   "outputs": [
    {
     "data": {
      "text/plain": [
       "array([0.7515 , 0.7525 , 0.7445 , 0.75425, 0.748  , 0.761  , 0.75525,\n",
       "       0.75525, 0.75825, 0.74775])"
      ]
     },
     "execution_count": 6,
     "metadata": {},
     "output_type": "execute_result"
    }
   ],
   "source": [
    "# Definición de modelo de clasificación Random Forest\n",
    "clf = RandomForestClassifier(n_jobs=-1, n_estimators=100, max_depth=3)\n",
    "cross_val_score(clf, X, y, cv=10)"
   ]
  },
  {
   "cell_type": "code",
   "execution_count": 7,
   "metadata": {},
   "outputs": [
    {
     "data": {
      "text/plain": [
       "RandomForestClassifier(max_depth=3, n_jobs=-1)"
      ]
     },
     "execution_count": 7,
     "metadata": {},
     "output_type": "execute_result"
    }
   ],
   "source": [
    "# Entrenamiento del modelo de clasificación Random Forest\n",
    "clf.fit(X, y)"
   ]
  },
  {
   "cell_type": "code",
   "execution_count": 8,
   "metadata": {},
   "outputs": [
    {
     "data": {
      "text/plain": [
       "['model_deployment/phishing_clf.pkl']"
      ]
     },
     "execution_count": 8,
     "metadata": {},
     "output_type": "execute_result"
    }
   ],
   "source": [
    "# Exportar modelo a archivo binario .pkl\n",
    "joblib.dump(clf, 'model_deployment/phishing_clf.pkl', compress=3)"
   ]
  },
  {
   "cell_type": "code",
   "execution_count": 9,
   "metadata": {},
   "outputs": [
    {
     "data": {
      "text/plain": [
       "0.7653382155028148"
      ]
     },
     "execution_count": 9,
     "metadata": {},
     "output_type": "execute_result"
    }
   ],
   "source": [
    "# Importar modelo y predicción\n",
    "from model_deployment.m09_model_deployment import predict_proba\n",
    "\n",
    "# Predicción de probabilidad de que un link sea phishing\n",
    "predict_proba('http://www.vipturismolondres.com/com.br/?atendimento=Cliente&/LgSgkszm64/B8aNzHa8Aj.php')"
   ]
  },
  {
   "cell_type": "markdown",
   "metadata": {},
   "source": [
    "## Disponibilizar modelo con Flask\n",
    "\n",
    "Para esta sección del notebook instale las siguientes librerías *!pip install flask* y *!pip install flask_restplus*."
   ]
  },
  {
   "cell_type": "code",
   "execution_count": 10,
   "metadata": {},
   "outputs": [],
   "source": [
    "# Importación librerías\n",
    "from flask import Flask\n",
    "from flask_restx import Api, Resource, fields"
   ]
  },
  {
   "cell_type": "code",
   "execution_count": 11,
   "metadata": {},
   "outputs": [],
   "source": [
    "# Definición aplicación Flask\n",
    "app = Flask(__name__)\n",
    "\n",
    "# Definición API Flask\n",
    "api = Api(\n",
    "    app, \n",
    "    version='1.0', \n",
    "    title='Phishing Prediction API',\n",
    "    description='Phishing Prediction API')\n",
    "\n",
    "ns = api.namespace('predict', \n",
    "     description='Phishing Classifier')\n",
    "\n",
    "# Definición argumentos o parámetros de la API\n",
    "parser = api.parser()\n",
    "parser.add_argument(\n",
    "    'URL', \n",
    "    type=str, \n",
    "    required=True, \n",
    "    help='URL to be analyzed', \n",
    "    location='args')\n",
    "\n",
    "resource_fields = api.model('Resource', {\n",
    "    'result': fields.String,\n",
    "})"
   ]
  },
  {
   "cell_type": "code",
   "execution_count": 12,
   "metadata": {},
   "outputs": [],
   "source": [
    "# Definición de la clase para disponibilización\n",
    "@ns.route('/')\n",
    "class PhishingApi(Resource):\n",
    "\n",
    "    @api.doc(parser=parser)\n",
    "    @api.marshal_with(resource_fields)\n",
    "    def get(self):\n",
    "        args = parser.parse_args()\n",
    "        \n",
    "        return {\n",
    "         \"result\": predict_proba(args['URL'])\n",
    "        }, 200"
   ]
  },
  {
   "cell_type": "code",
   "execution_count": null,
   "metadata": {},
   "outputs": [
    {
     "name": "stdout",
     "output_type": "stream",
     "text": [
      " * Serving Flask app \"__main__\" (lazy loading)\n",
      " * Environment: production\n",
      "   WARNING: This is a development server. Do not use it in a production deployment.\n",
      "   Use a production WSGI server instead.\n",
      " * Debug mode: on\n"
     ]
    },
    {
     "name": "stderr",
     "output_type": "stream",
     "text": [
      " * Running on http://0.0.0.0:5000/ (Press CTRL+C to quit)\n",
      "127.0.0.1 - - [17/Apr/2024 14:56:19] \"\u001b[35m\u001b[1mGET /predict/?URL= HTTP/1.1\u001b[0m\" 500 -\n",
      "Traceback (most recent call last):\n",
      "  File \"C:\\Users\\Usuario\\anaconda3\\Lib\\site-packages\\flask\\app.py\", line 2464, in __call__\n",
      "    return self.wsgi_app(environ, start_response)\n",
      "  File \"C:\\Users\\Usuario\\anaconda3\\Lib\\site-packages\\flask\\app.py\", line 2450, in wsgi_app\n",
      "    response = self.handle_exception(e)\n",
      "  File \"C:\\Users\\Usuario\\anaconda3\\Lib\\site-packages\\flask_restx\\api.py\", line 673, in error_router\n",
      "    return original_handler(f)\n",
      "  File \"C:\\Users\\Usuario\\anaconda3\\Lib\\site-packages\\flask\\app.py\", line 1867, in handle_exception\n",
      "    reraise(exc_type, exc_value, tb)\n",
      "  File \"C:\\Users\\Usuario\\anaconda3\\Lib\\site-packages\\flask\\_compat.py\", line 39, in reraise\n",
      "    raise value\n",
      "  File \"C:\\Users\\Usuario\\anaconda3\\Lib\\site-packages\\flask_restx\\api.py\", line 671, in error_router\n",
      "    return self.handle_error(e)\n",
      "  File \"C:\\Users\\Usuario\\anaconda3\\Lib\\site-packages\\flask\\app.py\", line 2447, in wsgi_app\n",
      "    response = self.full_dispatch_request()\n",
      "  File \"C:\\Users\\Usuario\\anaconda3\\Lib\\site-packages\\flask\\app.py\", line 1952, in full_dispatch_request\n",
      "    rv = self.handle_user_exception(e)\n",
      "  File \"C:\\Users\\Usuario\\anaconda3\\Lib\\site-packages\\flask_restx\\api.py\", line 673, in error_router\n",
      "    return original_handler(f)\n",
      "  File \"C:\\Users\\Usuario\\anaconda3\\Lib\\site-packages\\flask\\app.py\", line 1821, in handle_user_exception\n",
      "    reraise(exc_type, exc_value, tb)\n",
      "  File \"C:\\Users\\Usuario\\anaconda3\\Lib\\site-packages\\flask\\_compat.py\", line 39, in reraise\n",
      "    raise value\n",
      "  File \"C:\\Users\\Usuario\\anaconda3\\Lib\\site-packages\\flask_restx\\api.py\", line 671, in error_router\n",
      "    return self.handle_error(e)\n",
      "  File \"C:\\Users\\Usuario\\anaconda3\\Lib\\site-packages\\flask\\app.py\", line 1950, in full_dispatch_request\n",
      "    rv = self.dispatch_request()\n",
      "  File \"C:\\Users\\Usuario\\anaconda3\\Lib\\site-packages\\flask\\app.py\", line 1936, in dispatch_request\n",
      "    return self.view_functions[rule.endpoint](**req.view_args)\n",
      "  File \"C:\\Users\\Usuario\\anaconda3\\Lib\\site-packages\\flask_restx\\api.py\", line 404, in wrapper\n",
      "    resp = resource(*args, **kwargs)\n",
      "  File \"C:\\Users\\Usuario\\anaconda3\\Lib\\site-packages\\flask\\views.py\", line 89, in view\n",
      "    return self.dispatch_request(*args, **kwargs)\n",
      "  File \"C:\\Users\\Usuario\\anaconda3\\Lib\\site-packages\\flask_restx\\resource.py\", line 46, in dispatch_request\n",
      "    resp = meth(*args, **kwargs)\n",
      "  File \"C:\\Users\\Usuario\\anaconda3\\Lib\\site-packages\\flask_restx\\marshalling.py\", line 244, in wrapper\n",
      "    resp = f(*args, **kwargs)\n",
      "  File \"<ipython-input-12-de7848182048>\", line 11, in get\n",
      "    \n",
      "  File \"C:\\Users\\Usuario\\Documents\\GitHub\\MIAD_NLP_2024\\model_deployment\\m09_model_deployment.py\", line 20, in predict_proba\n",
      "    domain = url_.url.str.split('/', expand=True).iloc[:, 2]\n",
      "  File \"C:\\Users\\Usuario\\anaconda3\\Lib\\site-packages\\pandas\\core\\indexing.py\", line 1762, in __getitem__\n",
      "    return self._getitem_tuple(key)\n",
      "  File \"C:\\Users\\Usuario\\anaconda3\\Lib\\site-packages\\pandas\\core\\indexing.py\", line 2067, in _getitem_tuple\n",
      "    self._has_valid_tuple(tup)\n",
      "  File \"C:\\Users\\Usuario\\anaconda3\\Lib\\site-packages\\pandas\\core\\indexing.py\", line 703, in _has_valid_tuple\n",
      "    self._validate_key(k, i)\n",
      "  File \"C:\\Users\\Usuario\\anaconda3\\Lib\\site-packages\\pandas\\core\\indexing.py\", line 1994, in _validate_key\n",
      "    self._validate_integer(key, axis)\n",
      "  File \"C:\\Users\\Usuario\\anaconda3\\Lib\\site-packages\\pandas\\core\\indexing.py\", line 2063, in _validate_integer\n",
      "    raise IndexError(\"single positional indexer is out-of-bounds\")\n",
      "IndexError: single positional indexer is out-of-bounds\n",
      "127.0.0.1 - - [17/Apr/2024 14:56:19] \"\u001b[37mGET /predict/?__debugger__=yes&cmd=resource&f=jquery.js HTTP/1.1\u001b[0m\" 200 -\n",
      "127.0.0.1 - - [17/Apr/2024 14:56:19] \"\u001b[37mGET /predict/?__debugger__=yes&cmd=resource&f=debugger.js HTTP/1.1\u001b[0m\" 200 -\n",
      "127.0.0.1 - - [17/Apr/2024 14:56:19] \"\u001b[37mGET /predict/?__debugger__=yes&cmd=resource&f=style.css HTTP/1.1\u001b[0m\" 200 -\n",
      "127.0.0.1 - - [17/Apr/2024 14:56:20] \"\u001b[37mGET /predict/?__debugger__=yes&cmd=resource&f=console.png HTTP/1.1\u001b[0m\" 200 -\n",
      "127.0.0.1 - - [17/Apr/2024 14:56:20] \"\u001b[37mGET /predict/?__debugger__=yes&cmd=resource&f=ubuntu.ttf HTTP/1.1\u001b[0m\" 200 -\n",
      "127.0.0.1 - - [17/Apr/2024 14:56:21] \"\u001b[37mGET /predict/?__debugger__=yes&cmd=resource&f=console.png HTTP/1.1\u001b[0m\" 200 -\n",
      "127.0.0.1 - - [17/Apr/2024 14:56:39] \"\u001b[37mGET /predict/?URL=http://consultoriojuridico.co/pp/www.paypal.com/ HTTP/1.1\u001b[0m\" 200 -\n",
      "127.0.0.1 - - [17/Apr/2024 14:56:39] \"\u001b[33mGET /favicon.ico HTTP/1.1\u001b[0m\" 404 -\n",
      "127.0.0.1 - - [17/Apr/2024 15:02:52] \"\u001b[37mGET /predict/?URL=http://consultoriojuridico.co/pp/www.paypal.com$$/ HTTP/1.1\u001b[0m\" 200 -\n",
      "127.0.0.1 - - [17/Apr/2024 15:03:16] \"\u001b[37mGET /predict/?URL=http://dinerofacil.com/ HTTP/1.1\u001b[0m\" 200 -\n",
      "127.0.0.1 - - [17/Apr/2024 15:03:20] \"\u001b[37mGET /predict/?URL=http://dinerofacil.com/ HTTP/1.1\u001b[0m\" 200 -\n",
      "127.0.0.1 - - [17/Apr/2024 15:03:56] \"\u001b[35m\u001b[1mGET /predict/?URL=www.google.com/ HTTP/1.1\u001b[0m\" 500 -\n",
      "Traceback (most recent call last):\n",
      "  File \"C:\\Users\\Usuario\\anaconda3\\Lib\\site-packages\\flask\\app.py\", line 2464, in __call__\n",
      "    return self.wsgi_app(environ, start_response)\n",
      "  File \"C:\\Users\\Usuario\\anaconda3\\Lib\\site-packages\\flask\\app.py\", line 2450, in wsgi_app\n",
      "    response = self.handle_exception(e)\n",
      "  File \"C:\\Users\\Usuario\\anaconda3\\Lib\\site-packages\\flask_restx\\api.py\", line 673, in error_router\n",
      "    return original_handler(f)\n",
      "  File \"C:\\Users\\Usuario\\anaconda3\\Lib\\site-packages\\flask\\app.py\", line 1867, in handle_exception\n",
      "    reraise(exc_type, exc_value, tb)\n",
      "  File \"C:\\Users\\Usuario\\anaconda3\\Lib\\site-packages\\flask\\_compat.py\", line 39, in reraise\n",
      "    raise value\n",
      "  File \"C:\\Users\\Usuario\\anaconda3\\Lib\\site-packages\\flask_restx\\api.py\", line 671, in error_router\n",
      "    return self.handle_error(e)\n",
      "  File \"C:\\Users\\Usuario\\anaconda3\\Lib\\site-packages\\flask\\app.py\", line 2447, in wsgi_app\n",
      "    response = self.full_dispatch_request()\n",
      "  File \"C:\\Users\\Usuario\\anaconda3\\Lib\\site-packages\\flask\\app.py\", line 1952, in full_dispatch_request\n",
      "    rv = self.handle_user_exception(e)\n",
      "  File \"C:\\Users\\Usuario\\anaconda3\\Lib\\site-packages\\flask_restx\\api.py\", line 673, in error_router\n",
      "    return original_handler(f)\n",
      "  File \"C:\\Users\\Usuario\\anaconda3\\Lib\\site-packages\\flask\\app.py\", line 1821, in handle_user_exception\n",
      "    reraise(exc_type, exc_value, tb)\n",
      "  File \"C:\\Users\\Usuario\\anaconda3\\Lib\\site-packages\\flask\\_compat.py\", line 39, in reraise\n",
      "    raise value\n",
      "  File \"C:\\Users\\Usuario\\anaconda3\\Lib\\site-packages\\flask_restx\\api.py\", line 671, in error_router\n",
      "    return self.handle_error(e)\n",
      "  File \"C:\\Users\\Usuario\\anaconda3\\Lib\\site-packages\\flask\\app.py\", line 1950, in full_dispatch_request\n",
      "    rv = self.dispatch_request()\n",
      "  File \"C:\\Users\\Usuario\\anaconda3\\Lib\\site-packages\\flask\\app.py\", line 1936, in dispatch_request\n",
      "    return self.view_functions[rule.endpoint](**req.view_args)\n",
      "  File \"C:\\Users\\Usuario\\anaconda3\\Lib\\site-packages\\flask_restx\\api.py\", line 404, in wrapper\n",
      "    resp = resource(*args, **kwargs)\n",
      "  File \"C:\\Users\\Usuario\\anaconda3\\Lib\\site-packages\\flask\\views.py\", line 89, in view\n",
      "    return self.dispatch_request(*args, **kwargs)\n",
      "  File \"C:\\Users\\Usuario\\anaconda3\\Lib\\site-packages\\flask_restx\\resource.py\", line 46, in dispatch_request\n",
      "    resp = meth(*args, **kwargs)\n",
      "  File \"C:\\Users\\Usuario\\anaconda3\\Lib\\site-packages\\flask_restx\\marshalling.py\", line 244, in wrapper\n",
      "    resp = f(*args, **kwargs)\n",
      "  File \"<ipython-input-12-de7848182048>\", line 11, in get\n",
      "    \n",
      "  File \"C:\\Users\\Usuario\\Documents\\GitHub\\MIAD_NLP_2024\\model_deployment\\m09_model_deployment.py\", line 20, in predict_proba\n",
      "    domain = url_.url.str.split('/', expand=True).iloc[:, 2]\n",
      "  File \"C:\\Users\\Usuario\\anaconda3\\Lib\\site-packages\\pandas\\core\\indexing.py\", line 1762, in __getitem__\n",
      "    return self._getitem_tuple(key)\n",
      "  File \"C:\\Users\\Usuario\\anaconda3\\Lib\\site-packages\\pandas\\core\\indexing.py\", line 2067, in _getitem_tuple\n",
      "    self._has_valid_tuple(tup)\n",
      "  File \"C:\\Users\\Usuario\\anaconda3\\Lib\\site-packages\\pandas\\core\\indexing.py\", line 703, in _has_valid_tuple\n",
      "    self._validate_key(k, i)\n",
      "  File \"C:\\Users\\Usuario\\anaconda3\\Lib\\site-packages\\pandas\\core\\indexing.py\", line 1994, in _validate_key\n",
      "    self._validate_integer(key, axis)\n",
      "  File \"C:\\Users\\Usuario\\anaconda3\\Lib\\site-packages\\pandas\\core\\indexing.py\", line 2063, in _validate_integer\n",
      "    raise IndexError(\"single positional indexer is out-of-bounds\")\n",
      "IndexError: single positional indexer is out-of-bounds\n"
     ]
    },
    {
     "name": "stderr",
     "output_type": "stream",
     "text": [
      "127.0.0.1 - - [17/Apr/2024 15:03:56] \"\u001b[37mGET /predict/?__debugger__=yes&cmd=resource&f=style.css HTTP/1.1\u001b[0m\" 200 -\n",
      "127.0.0.1 - - [17/Apr/2024 15:03:56] \"\u001b[37mGET /predict/?__debugger__=yes&cmd=resource&f=jquery.js HTTP/1.1\u001b[0m\" 200 -\n",
      "127.0.0.1 - - [17/Apr/2024 15:03:56] \"\u001b[37mGET /predict/?__debugger__=yes&cmd=resource&f=debugger.js HTTP/1.1\u001b[0m\" 200 -\n",
      "127.0.0.1 - - [17/Apr/2024 15:03:57] \"\u001b[37mGET /predict/?__debugger__=yes&cmd=resource&f=console.png HTTP/1.1\u001b[0m\" 200 -\n",
      "127.0.0.1 - - [17/Apr/2024 15:03:57] \"\u001b[37mGET /predict/?__debugger__=yes&cmd=resource&f=ubuntu.ttf HTTP/1.1\u001b[0m\" 200 -\n",
      "127.0.0.1 - - [17/Apr/2024 15:04:04] \"\u001b[37mGET /predict/?URL=http//www.google.com/ HTTP/1.1\u001b[0m\" 200 -\n",
      "127.0.0.1 - - [17/Apr/2024 15:04:11] \"\u001b[37mGET /predict/?URL=http//www.googletz.com/ HTTP/1.1\u001b[0m\" 200 -\n",
      "127.0.0.1 - - [17/Apr/2024 15:04:32] \"\u001b[37mGET /predict/?URL=http://www.vipturismolondres.com/com.br/?atendimento=Cliente&/LgSgkszm64/B8aNzHa8Aj.php HTTP/1.1\u001b[0m\" 200 -\n",
      "127.0.0.1 - - [17/Apr/2024 15:04:58] \"\u001b[37mGET /predict/?URL=http://paypal.com.confirm-key-21107316126168 HTTP/1.1\u001b[0m\" 200 -\n"
     ]
    }
   ],
   "source": [
    "# Ejecución de la aplicación que disponibiliza el modelo de manera local en el puerto 5000\n",
    "app.run(debug=True, use_reloader=False, host='0.0.0.0', port=5000)"
   ]
  },
  {
   "cell_type": "markdown",
   "metadata": {},
   "source": [
    "El modelo debe haber quedado disponibilizado en el puerto 5000. Para predecir la probabilidad de que una URL sea fraudulenta (phishing) copie en la barra de busqueda de su navegador la siguiente dirección (http://localhost:5000/predict/?URL=) y agregregue al final de esta la URL que desee precir. Por ejemplo, al copiar la URL http://localhost:5000/predict/?URL=http://consultoriojuridico.co/pp/www.paypal.com/, la API retornará la probabilidad de que la URL http://consultoriojuridico.co/pp/www.paypal.com/ sea phishing."
   ]
  }
 ],
 "metadata": {
  "kernelspec": {
   "display_name": "Python 3",
   "language": "python",
   "name": "python3"
  },
  "language_info": {
   "codemirror_mode": {
    "name": "ipython",
    "version": 3
   },
   "file_extension": ".py",
   "mimetype": "text/x-python",
   "name": "python",
   "nbconvert_exporter": "python",
   "pygments_lexer": "ipython3",
   "version": "3.8.3"
  }
 },
 "nbformat": 4,
 "nbformat_minor": 4
}
