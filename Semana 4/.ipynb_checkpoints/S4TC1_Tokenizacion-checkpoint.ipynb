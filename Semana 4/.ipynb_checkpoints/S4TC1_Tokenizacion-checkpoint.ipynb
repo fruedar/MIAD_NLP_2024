{
 "cells": [
  {
   "cell_type": "markdown",
   "metadata": {},
   "source": [
    "![image info](https://raw.githubusercontent.com/albahnsen/MIAD_ML_and_NLP/main/images/banner_1.png)"
   ]
  },
  {
   "cell_type": "markdown",
   "metadata": {},
   "source": [
    "# Taller: Tokenización de textos  \n",
    "\n",
    "En este taller podrán poner en práctica sus conocimientos sobre preprocesamiento de texto (tokenización). El taller está constituido por 5 puntos, en los cuales deberan seguir las intrucciones de cada numeral para su desarrollo."
   ]
  },
  {
   "cell_type": "markdown",
   "metadata": {},
   "source": [
    "## Datos detección de toxicidad en comentarios\n",
    "\n",
    "En este taller se usará el conjunto de datos de detección de toxicidad en comentarios de la base de datos de Kaggle. Cada observación es un comentario que tiene como variable objetivo (target) la probabilidad de ser un comentario tóxico. El objetivo es predecir la toxicidad de cada comentario. Para más detalles pueden visitar el siguiente enlace: [datos](https://www.kaggle.com/c/jigsaw-unintended-bias-in-toxicity-classification/data)."
   ]
  },
  {
   "cell_type": "code",
   "execution_count": 1,
   "metadata": {},
   "outputs": [],
   "source": [
    "import warnings\n",
    "warnings.filterwarnings('ignore')"
   ]
  },
  {
   "cell_type": "code",
   "execution_count": 2,
   "metadata": {},
   "outputs": [],
   "source": [
    "# Importación librerías\n",
    "import pandas as pd\n",
    "import numpy as np\n",
    "import scipy as sp\n",
    "from sklearn.model_selection import train_test_split, cross_val_score\n",
    "from sklearn.feature_extraction.text import CountVectorizer, TfidfVectorizer\n",
    "from sklearn.ensemble import RandomForestRegressor\n",
    "from sklearn.model_selection import GridSearchCV\n",
    "from sklearn.metrics import mean_squared_error\n",
    "%matplotlib inline"
   ]
  },
  {
   "cell_type": "code",
   "execution_count": 3,
   "metadata": {},
   "outputs": [
    {
     "data": {
      "text/html": [
       "<div>\n",
       "<style scoped>\n",
       "    .dataframe tbody tr th:only-of-type {\n",
       "        vertical-align: middle;\n",
       "    }\n",
       "\n",
       "    .dataframe tbody tr th {\n",
       "        vertical-align: top;\n",
       "    }\n",
       "\n",
       "    .dataframe thead th {\n",
       "        text-align: right;\n",
       "    }\n",
       "</style>\n",
       "<table border=\"1\" class=\"dataframe\">\n",
       "  <thead>\n",
       "    <tr style=\"text-align: right;\">\n",
       "      <th></th>\n",
       "      <th>id</th>\n",
       "      <th>comment_text</th>\n",
       "      <th>target</th>\n",
       "    </tr>\n",
       "  </thead>\n",
       "  <tbody>\n",
       "    <tr>\n",
       "      <th>0</th>\n",
       "      <td>6101457</td>\n",
       "      <td>What are you talking about? What group do Pete...</td>\n",
       "      <td>0.0</td>\n",
       "    </tr>\n",
       "    <tr>\n",
       "      <th>1</th>\n",
       "      <td>5342103</td>\n",
       "      <td>NO!, Let him, we need a Conservative government.</td>\n",
       "      <td>0.0</td>\n",
       "    </tr>\n",
       "    <tr>\n",
       "      <th>2</th>\n",
       "      <td>743361</td>\n",
       "      <td>Perhaps he took the \"power out of the Cardinal...</td>\n",
       "      <td>0.2</td>\n",
       "    </tr>\n",
       "    <tr>\n",
       "      <th>3</th>\n",
       "      <td>551008</td>\n",
       "      <td>As always, yours is dripping with sarcasm, whi...</td>\n",
       "      <td>0.0</td>\n",
       "    </tr>\n",
       "    <tr>\n",
       "      <th>4</th>\n",
       "      <td>865998</td>\n",
       "      <td>The dirty little secret is that the price rang...</td>\n",
       "      <td>0.3</td>\n",
       "    </tr>\n",
       "  </tbody>\n",
       "</table>\n",
       "</div>"
      ],
      "text/plain": [
       "        id                                       comment_text  target\n",
       "0  6101457  What are you talking about? What group do Pete...     0.0\n",
       "1  5342103   NO!, Let him, we need a Conservative government.     0.0\n",
       "2   743361  Perhaps he took the \"power out of the Cardinal...     0.2\n",
       "3   551008  As always, yours is dripping with sarcasm, whi...     0.0\n",
       "4   865998  The dirty little secret is that the price rang...     0.3"
      ]
     },
     "execution_count": 3,
     "metadata": {},
     "output_type": "execute_result"
    }
   ],
   "source": [
    "# Carga de datos de archivos .csv\n",
    "df = pd.read_csv('https://raw.githubusercontent.com/albahnsen/MIAD_ML_and_NLP/main/datasets/Toxicity.zip')\n",
    "df = df[['id','comment_text', 'target']]\n",
    "df.head()"
   ]
  },
  {
   "cell_type": "code",
   "execution_count": 4,
   "metadata": {},
   "outputs": [
    {
     "data": {
      "text/plain": [
       "(541462, 3)"
      ]
     },
     "execution_count": 4,
     "metadata": {},
     "output_type": "execute_result"
    }
   ],
   "source": [
    "df.shape"
   ]
  },
  {
   "cell_type": "code",
   "execution_count": 5,
   "metadata": {},
   "outputs": [
    {
     "data": {
      "text/plain": [
       "<matplotlib.axes._subplots.AxesSubplot at 0x2032b9ae820>"
      ]
     },
     "execution_count": 5,
     "metadata": {},
     "output_type": "execute_result"
    },
    {
     "data": {
      "image/png": "[encoded data removed]",
      "text/plain": [
       "<Figure size 432x288 with 1 Axes>"
      ]
     },
     "metadata": {
      "needs_background": "light"
     },
     "output_type": "display_data"
    }
   ],
   "source": [
    "# Impresión histograma de variable de interés (y)\n",
    "df.target.hist()"
   ]
  },
  {
   "cell_type": "code",
   "execution_count": 6,
   "metadata": {},
   "outputs": [
    {
     "data": {
      "text/plain": [
       "count    541462.000000\n",
       "mean          0.102991\n",
       "std           0.196979\n",
       "min           0.000000\n",
       "25%           0.000000\n",
       "50%           0.000000\n",
       "75%           0.166667\n",
       "max           1.000000\n",
       "Name: target, dtype: float64"
      ]
     },
     "execution_count": 6,
     "metadata": {},
     "output_type": "execute_result"
    }
   ],
   "source": [
    "# Separación de variable de interés (y)\n",
    "y = df.target\n",
    "y.describe()"
   ]
  },
  {
   "cell_type": "code",
   "execution_count": 7,
   "metadata": {},
   "outputs": [],
   "source": [
    "# Separación de variables predictoras (X), solo se considera el texto de la noticia\n",
    "X = df.comment_text"
   ]
  },
  {
   "cell_type": "code",
   "execution_count": 8,
   "metadata": {},
   "outputs": [],
   "source": [
    "# Separación de datos en set de entrenamiento y test\n",
    "X_train, X_test, y_train, y_test = train_test_split(X, y, test_size=0.33, random_state=42)"
   ]
  },
  {
   "cell_type": "markdown",
   "metadata": {},
   "source": [
    "## Punto 1 - Tokenización con CountVectorizer\n",
    "\n",
    "En la celda 1 creen y entrenen el modelo de regresión de su preferencia, para que prediga la probabilidad de que un comentario sea tóxico, usando los set de entrenamiento y test definidos anteriormente. Usen la función **CountVectorizer** para preprocesar los comentarios y presenten el desempeño del modelo con la métrica del MSE.\n",
    "\n",
    "Recuerden que el preprocesamiento que se haga sobre los datos de entrenamiento  (*.fit_transform()*) deben ser aplicado al set de test (*.transform()*)."
   ]
  },
  {
   "cell_type": "code",
   "execution_count": 9,
   "metadata": {},
   "outputs": [],
   "source": [
    "# Celda 1\n",
    "\n",
    "# Se transforman los datos usando CountVectorizer\n",
    "vectorizer = CountVectorizer(lowercase=True, stop_words='english',max_features=50)\n",
    "X_train_v = vectorizer.fit_transform(X_train)\n",
    "X_test_v = vectorizer.transform(X_test)"
   ]
  },
  {
   "cell_type": "code",
   "execution_count": 10,
   "metadata": {},
   "outputs": [
    {
     "name": "stdout",
     "output_type": "stream",
     "text": [
      "MSE:  0.041198490853942386\n"
     ]
    }
   ],
   "source": [
    "clf = RandomForestRegressor()\n",
    "clf.fit(X_train_v, y_train)\n",
    "y_pred=clf.predict(X_test_v)\n",
    "mse_cv= mean_squared_error(y_test, y_pred)\n",
    "\n",
    "print(\"MSE: \", mse_cv)"
   ]
  },
  {
   "cell_type": "markdown",
   "metadata": {},
   "source": [
    "## Punto 2 - Tokenización con CountVectorizer y trigramas\n",
    "\n",
    "En la celda 2 creen y entrenen el mismo modelo de regresión del punto anterior (es decir si usaron un RandomForestRegresor usen nuevamente ese regresor), para que prediga la probabilidad de que un comentario sea tóxico, usando los set de entrenamiento y test definidos anteriormente. Usen la función CountVectorizer **considerando trigramas** para preprocesar los comentarios y presenten el desempeño del modelo con la métrica del MSE.\n",
    "\n",
    "Recuerden que el preprocesamiento que se haga sobre los datos de entrenamiento  (*.fit_transform()*) deben ser aplicado al set de test (*.transform()*)."
   ]
  },
  {
   "cell_type": "code",
   "execution_count": 11,
   "metadata": {},
   "outputs": [],
   "source": [
    "# Celda 2\n",
    "vectorizer=CountVectorizer(lowercase=True, stop_words='english', ngram_range=(3, 3),max_features=50)\n",
    "\n",
    "X_train_v = vectorizer.fit_transform(X_train)\n",
    "X_test_v = vectorizer.transform(X_test)"
   ]
  },
  {
   "cell_type": "code",
   "execution_count": 12,
   "metadata": {},
   "outputs": [
    {
     "name": "stdout",
     "output_type": "stream",
     "text": [
      "MSE:  0.03897766883489547\n"
     ]
    }
   ],
   "source": [
    "clf = RandomForestRegressor()\n",
    "clf.fit(X_train_v, y_train)\n",
    "y_pred=clf.predict(X_test_v)\n",
    "mse_tri= mean_squared_error(y_test, y_pred)\n",
    "\n",
    "print(\"MSE: \", mse_tri)"
   ]
  },
  {
   "cell_type": "markdown",
   "metadata": {},
   "source": [
    "## Punto 3 - TfidfVectorizer\n",
    "\n",
    "Investigen sobre la función TfidfVectorizer. En la celda de texto 3, expliquen en qué consiste esta técnica de tokenización (describanla y expliquen su funcionamiento) y cúales son las ventajas o deventajas de su uso al compararlo con la función CountVectorizer."
   ]
  },
  {
   "cell_type": "markdown",
   "metadata": {},
   "source": [
    "### #Celda 3\n",
    "\n",
    "La funcion TfidfVectorizer utiliza una combinación de dos técnicas: la frecuencia de términos inversa (TF-IDF) y la tokenización para el procesamiento de lengiaje natural.\n",
    "\n",
    "La frecuencia de términos inversa (TF-IDF) es una técnica que mide la relevancia de una palabra en un documento. La relevancia se determina por dos factores: la frecuencia de la palabra en el documento (TF) y la frecuencia inversa del término en el corpus (IDF). La frecuencia de la palabra en el documento es el número de veces que aparece la palabra en el documento. La frecuencia inversa del término en el corpus se calcula como el logaritmo del número total de documentos en el corpus dividido por el número de documentos que contienen la palabra.\n",
    "\n",
    "La tokenización, por su parte, es el proceso de dividir el texto en unidades más pequeñas, llamadas tokens. Los tokens pueden ser palabras individuales, signos de puntuación, números, etc.\n",
    "\n",
    "El TfidfVectorizer combina estas dos técnicas para producir un vector numérico para cada documento que refleja la relevancia de cada palabra en ese documento en relación con el corpus completo. Para cada documento, el TfidfVectorizer calcula la frecuencia de cada palabra en el documento (TF) y la frecuencia inversa del término en el corpus (IDF). Luego, multiplica estas dos medidas para obtener el valor de peso de cada palabra. El resultado es un vector numérico para cada documento que contiene valores de peso para cada palabra.\n",
    "\n",
    "Las ventajas de TfidfVectorizer en comparación con CountVectorizer son varias. En primer lugar, TfidfVectorizer tiene en cuenta la frecuencia inversa de los términos en el corpus, lo que significa que palabras como \"the\" y \"and\" que aparecen con frecuencia en muchos documentos, tienen un valor de peso bajo en comparación con palabras menos comunes que son más relevantes para un documento específico. En segundo lugar, TfidfVectorizer es capaz de detectar y eliminar palabras irrelevantes o ruido en el corpus, lo que puede mejorar la calidad de los resultados. Finalmente, TfidfVectorizer es capaz de manejar grandes conjuntos de datos y reducir el costo computacional en comparación con CountVectorizer, lo que puede ser una ventaja en situaciones donde el tiempo de procesamiento es un factor importante.\n",
    "\n",
    "La principal desventaja de TfidfVectorizer es que puede ser menos efectivo en documentos cortos o con pocos términos, ya que el cálculo del peso de las palabras depende de la frecuencia de los términos en el documento. En estos casos, CountVectorizer podría ser una mejor opción."
   ]
  },
  {
   "cell_type": "markdown",
   "metadata": {},
   "source": [
    "## Punto 4 - Tokenización con TfidfVectorizer\n",
    "\n",
    "En la celda 4 creen y entrenen el mismo modelo de regresión del primer punto, para que prediga la probabilidad de que un comentario sea tóxico, usando los set de entrenamiento y test definidos anteriormente. Procesen los comentarios con la función **TfidfVectorizer** y presenten el desempeño del modelo con la métrica del MSE.\n",
    "\n",
    "Recuerden que el preprocesamiento que se haga sobre los datos de entrenamiento  (*.fit_transform()*) deben ser aplicado al set de test (*.transform()*)."
   ]
  },
  {
   "cell_type": "code",
   "execution_count": 13,
   "metadata": {},
   "outputs": [],
   "source": [
    "# Celda 4\n",
    "from sklearn.feature_extraction.text import TfidfVectorizer\n",
    "vectorizer=TfidfVectorizer(lowercase=True, stop_words='english',max_features=50)\n",
    "\n",
    "X_train_v = vectorizer.fit_transform(X_train)\n",
    "X_test_v = vectorizer.transform(X_test)"
   ]
  },
  {
   "cell_type": "code",
   "execution_count": 14,
   "metadata": {},
   "outputs": [
    {
     "name": "stdout",
     "output_type": "stream",
     "text": [
      "MSE:  0.03999779687911962\n"
     ]
    }
   ],
   "source": [
    "clf = RandomForestRegressor()\n",
    "clf.fit(X_train_v, y_train)\n",
    "y_pred=clf.predict(X_test_v)\n",
    "mse_tfidf= mean_squared_error(y_test, y_pred)\n",
    "\n",
    "print(\"MSE: \", mse_tfidf)"
   ]
  },
  {
   "cell_type": "markdown",
   "metadata": {},
   "source": [
    "## Punto 5 - Comparación y análisis de resultados\n",
    "\n",
    "En la celda 5 comparen los resultados obtenidos de los diferentes modelos y comenten cómo el preprocesamiento de texto afecta el desempeño."
   ]
  },
  {
   "cell_type": "code",
   "execution_count": 15,
   "metadata": {},
   "outputs": [
    {
     "data": {
      "image/png": "[encoded data removed]",
      "text/plain": [
       "<Figure size 432x288 with 1 Axes>"
      ]
     },
     "metadata": {
      "needs_background": "light"
     },
     "output_type": "display_data"
    }
   ],
   "source": [
    "# Celda 5\n",
    "import matplotlib.pyplot as plt\n",
    "\n",
    "fig = plt.figure()\n",
    "ax = fig.add_axes([0,0,1,1])\n",
    "ax.set_title(\"Comparación de Modelos de RandomForestRegressor con Diferentes Preprocesamientos de Texto \")\n",
    "ejeX = ['CountVectorizer','CV+ tri-gramas','TfidfVectorizer']\n",
    "ejeY = [mse_cv, mse_tri,mse_tfidf]\n",
    "ax.bar(ejeX,ejeY)\n",
    "def addlabels(x,y,plotP):\n",
    "    for i in range(len(x)):\n",
    "        plotP.text(i,y[i],y[i])\n",
    "addlabels(ejeX,ejeY,plt)\n",
    "plt.show()"
   ]
  }
 ],
 "metadata": {
  "kernelspec": {
   "display_name": "Python 3",
   "language": "python",
   "name": "python3"
  },
  "language_info": {
   "codemirror_mode": {
    "name": "ipython",
    "version": 3
   },
   "file_extension": ".py",
   "mimetype": "text/x-python",
   "name": "python",
   "nbconvert_exporter": "python",
   "pygments_lexer": "ipython3",
   "version": "3.8.3"
  },
  "name": "_merged"
 },
 "nbformat": 4,
 "nbformat_minor": 4
}
